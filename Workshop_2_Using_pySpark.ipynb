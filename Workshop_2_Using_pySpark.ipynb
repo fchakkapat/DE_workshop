{
  "nbformat": 4,
  "nbformat_minor": 0,
  "metadata": {
    "colab": {
      "provenance": [],
      "mount_file_id": "1sTGGa2FrW6hUZvKJl5lsQQlF-7T65oQi",
      "authorship_tag": "ABX9TyMzH+mtLc+WQVD8dNJt5L9y",
      "include_colab_link": true
    },
    "kernelspec": {
      "name": "python3",
      "display_name": "Python 3"
    },
    "language_info": {
      "name": "python"
    }
  },
  "cells": [
    {
      "cell_type": "markdown",
      "metadata": {
        "id": "view-in-github",
        "colab_type": "text"
      },
      "source": [
        "<a href=\"https://colab.research.google.com/github/fchakkapat/DE_workshop/blob/main/Workshop_2_Using_pySpark.ipynb\" target=\"_parent\"><img src=\"https://colab.research.google.com/assets/colab-badge.svg\" alt=\"Open In Colab\"/></a>"
      ]
    },
    {
      "cell_type": "markdown",
      "source": [
        "# Workshop 2_Using pySpark\n",
        "ref\n",
        "\n",
        "*   https://medium.com/grabngoinfo/install-pyspark-3-on-google-colab-the-easy-way-577ec4a2bcd8\n",
        "*   https://gist.github.com/BestChanyanart/1f518a7dd857d017801acf6c9355eab5\n",
        "*   https://github.com/WoradaS/Road_to_Data-Engineer/tree/main/Data%20Cleansing%20with%20Spark\n",
        "\n",
        "\n"
      ],
      "metadata": {
        "id": "X2yw88Pif0rb"
      }
    },
    {
      "cell_type": "markdown",
      "source": [
        "## 1.Set up pyspark"
      ],
      "metadata": {
        "id": "NnXJgbD3ubuy"
      }
    },
    {
      "cell_type": "code",
      "source": [
        "# 1. Installing Spark and PySpark \n",
        "\n",
        "# อัพเดท Package ทั้งหมด ของ VM(ubuntu)ในcolabเอง\n",
        "!apt-get update \n",
        "\n",
        "# ติดตั้ง Java Development Kit (จำเป็นสำหรับการติดตั้ง Spark)\n",
        "#เพราะว่าspark ต้องรันบนJava Virtual Machine(JVM)\n",
        "!apt-get install openjdk-8-jdk-headless -qq > /dev/null\n",
        "\n",
        "# Download Spark 3.3.1\n",
        "!wget -q https://dlcdn.apache.org/spark/spark-3.3.1/spark-3.3.1-bin-hadoop3.tgz\n",
        "\n",
        "# Unzip ไฟล์ Spark 3.3.1\n",
        "!tar xf spark-3.3.1-bin-hadoop3.tgz \n",
        "\n",
        "!pip install -q findspark==1.3.0"
      ],
      "metadata": {
        "colab": {
          "base_uri": "https://localhost:8080/"
        },
        "id": "MkqeBOcggX3p",
        "outputId": "f8aa5307-8133-4107-d91d-0e2fae8d9a0e"
      },
      "execution_count": null,
      "outputs": [
        {
          "output_type": "stream",
          "name": "stdout",
          "text": [
            "\r0% [Working]\r            \rGet:1 https://cloud.r-project.org/bin/linux/ubuntu focal-cran40/ InRelease [3,622 B]\n",
            "\r0% [Connecting to archive.ubuntu.com (185.125.190.39)] [Waiting for headers] [1\r0% [Connecting to archive.ubuntu.com (185.125.190.39)] [Waiting for headers] [W\r                                                                               \rIgn:2 https://developer.download.nvidia.com/compute/machine-learning/repos/ubuntu2004/x86_64  InRelease\n",
            "\r0% [Waiting for headers] [Waiting for headers] [Waiting for headers] [Waiting f\r                                                                               \rGet:3 http://ppa.launchpad.net/c2d4u.team/c2d4u4.0+/ubuntu focal InRelease [18.1 kB]\n",
            "\r0% [Waiting for headers] [Waiting for headers] [Waiting for headers] [3 InRelea\r                                                                               \rGet:4 http://security.ubuntu.com/ubuntu focal-security InRelease [114 kB]\n",
            "\r0% [Waiting for headers] [4 InRelease 14.2 kB/114 kB 12%] [Waiting for headers]\r                                                                               \rHit:5 https://developer.download.nvidia.com/compute/cuda/repos/ubuntu2004/x86_64  InRelease\n",
            "Hit:6 https://developer.download.nvidia.com/compute/machine-learning/repos/ubuntu2004/x86_64  Release\n",
            "Hit:7 http://archive.ubuntu.com/ubuntu focal InRelease\n",
            "Get:8 http://archive.ubuntu.com/ubuntu focal-updates InRelease [114 kB]\n",
            "Hit:9 http://ppa.launchpad.net/cran/libgit2/ubuntu focal InRelease\n",
            "Hit:10 http://ppa.launchpad.net/deadsnakes/ppa/ubuntu focal InRelease\n",
            "Get:11 http://archive.ubuntu.com/ubuntu focal-backports InRelease [108 kB]\n",
            "Hit:12 http://ppa.launchpad.net/graphics-drivers/ppa/ubuntu focal InRelease\n",
            "Get:14 http://ppa.launchpad.net/c2d4u.team/c2d4u4.0+/ubuntu focal/main Sources [2,377 kB]\n",
            "Get:15 http://security.ubuntu.com/ubuntu focal-security/universe amd64 Packages [983 kB]\n",
            "Get:16 http://ppa.launchpad.net/c2d4u.team/c2d4u4.0+/ubuntu focal/main amd64 Packages [1,126 kB]\n",
            "Get:17 http://security.ubuntu.com/ubuntu focal-security/main amd64 Packages [2,437 kB]\n",
            "Get:18 http://archive.ubuntu.com/ubuntu focal-updates/restricted amd64 Packages [2,003 kB]\n",
            "Get:19 http://archive.ubuntu.com/ubuntu focal-updates/main amd64 Packages [2,910 kB]\n",
            "Get:20 http://archive.ubuntu.com/ubuntu focal-updates/universe amd64 Packages [1,285 kB]\n",
            "Fetched 13.5 MB in 5s (2,828 kB/s)\n",
            "Reading package lists... Done\n"
          ]
        }
      ]
    },
    {
      "cell_type": "code",
      "source": [
        "# 2. Set up the environment for Spark.\n",
        "import os\n",
        "os.environ[\"JAVA_HOME\"] = \"/usr/lib/jvm/java-8-openjdk-amd64\"\n",
        "os.environ[\"SPARK_HOME\"] = '/content/spark-3.3.1-bin-hadoop3'"
      ],
      "metadata": {
        "id": "ivDO_JujgQRE"
      },
      "execution_count": null,
      "outputs": []
    },
    {
      "cell_type": "code",
      "source": [
        "# 3. Install pyspark\n",
        "!pip install pyspark==3.3.1"
      ],
      "metadata": {
        "colab": {
          "base_uri": "https://localhost:8080/"
        },
        "id": "VUBI_Ufjp2Se",
        "outputId": "d6eed6e3-44f2-4eb8-9432-4e0f225c8d84"
      },
      "execution_count": null,
      "outputs": [
        {
          "output_type": "stream",
          "name": "stdout",
          "text": [
            "Looking in indexes: https://pypi.org/simple, https://us-python.pkg.dev/colab-wheels/public/simple/\n",
            "Collecting pyspark==3.3.1\n",
            "  Downloading pyspark-3.3.1.tar.gz (281.4 MB)\n",
            "\u001b[2K     \u001b[90m━━━━━━━━━━━━━━━━━━━━━━━━━━━━━━━━━━━━━━━\u001b[0m \u001b[32m281.4/281.4 MB\u001b[0m \u001b[31m4.5 MB/s\u001b[0m eta \u001b[36m0:00:00\u001b[0m\n",
            "\u001b[?25h  Preparing metadata (setup.py) ... \u001b[?25l\u001b[?25hdone\n",
            "Collecting py4j==0.10.9.5\n",
            "  Downloading py4j-0.10.9.5-py2.py3-none-any.whl (199 kB)\n",
            "\u001b[2K     \u001b[90m━━━━━━━━━━━━━━━━━━━━━━━━━━━━━━━━━━━━━━\u001b[0m \u001b[32m199.7/199.7 KB\u001b[0m \u001b[31m16.6 MB/s\u001b[0m eta \u001b[36m0:00:00\u001b[0m\n",
            "\u001b[?25hBuilding wheels for collected packages: pyspark\n",
            "  Building wheel for pyspark (setup.py) ... \u001b[?25l\u001b[?25hdone\n",
            "  Created wheel for pyspark: filename=pyspark-3.3.1-py2.py3-none-any.whl size=281845512 sha256=188f4e6085cee362f47e0daafd8f83e7074c66d2a91d9550f68f01fda18ff4f7\n",
            "  Stored in directory: /root/.cache/pip/wheels/43/dc/11/ec201cd671da62fa9c5cc77078235e40722170ceba231d7598\n",
            "Successfully built pyspark\n",
            "Installing collected packages: py4j, pyspark\n",
            "Successfully installed py4j-0.10.9.5 pyspark-3.3.1\n"
          ]
        }
      ]
    },
    {
      "cell_type": "code",
      "source": [
        "#4. Creat Spark session\n",
        "# สร้าง Spark Session\n",
        "from pyspark.sql import SparkSession\n",
        "spark = SparkSession.builder.master(\"local[*]\").getOrCreate()\n",
        "  #สร้างmaster เป็นเครื่องlocal(คอมเครื่องนี้)                        \n",
        "\n",
        "# Get Python version\n",
        "import sys\n",
        "sys.version_info\n",
        "spark.version"
      ],
      "metadata": {
        "colab": {
          "base_uri": "https://localhost:8080/",
          "height": 35
        },
        "id": "hsTau-BXr9tL",
        "outputId": "6ab6d937-43b8-48f8-ab1f-ffe229162d61"
      },
      "execution_count": null,
      "outputs": [
        {
          "output_type": "execute_result",
          "data": {
            "text/plain": [
              "'3.3.1'"
            ],
            "application/vnd.google.colaboratory.intrinsic+json": {
              "type": "string"
            }
          },
          "metadata": {},
          "execution_count": 5
        }
      ]
    },
    {
      "cell_type": "code",
      "source": [
        "#5. เชื่อมต่อ Google colab กับ Google Drive \n",
        "from google.colab import drive\n",
        "drive.mount('/content/drive')"
      ],
      "metadata": {
        "colab": {
          "base_uri": "https://localhost:8080/"
        },
        "id": "FhTy2Rslnzsw",
        "outputId": "8a1958b5-11ee-4db0-dd6c-833ed6db7760"
      },
      "execution_count": null,
      "outputs": [
        {
          "output_type": "stream",
          "name": "stdout",
          "text": [
            "Drive already mounted at /content/drive; to attempt to forcibly remount, call drive.mount(\"/content/drive\", force_remount=True).\n"
          ]
        }
      ]
    },
    {
      "cell_type": "code",
      "source": [
        "#6. Load data from GG drive TIP! : copy path ในfileของcolab\n",
        "dt = spark.read.csv('/content/drive/MyDrive/R2DE-Workshop2/Online Retail.csv', header = True, inferSchema = True,)\n",
        "\n",
        "dt.show() # Show Schema\n",
        "dt.dtypes #data type\n",
        "dt.printSchema() # Show Schema (อีกแบบ)\n",
        "\n",
        "# นับจำนวนRow และ column\n",
        "print((dt.count(), len(dt.columns)))\n",
        "\n",
        "# สรุปข้อมูลสถิติ\n",
        "dt.describe().show()\n",
        "\n",
        "# สรุปข้อมูลสถิติ ที่มีpercentile เพิ่มเข้า 25%,50%,75% (กราฟระฆังคว่ำแบ่ง4ส่วน)\n",
        "dt.summary().show()\n",
        "\n",
        "# สรุปข้อมูลสถิติเฉพาะ column ที่ระบุ\n",
        "dt.select(\"Quantity\", \"UnitPrice\").describe().show()\n",
        "\n",
        "# Median = 50% Q\n",
        "dt.select(\"Quantity\").summary().show()"
      ],
      "metadata": {
        "colab": {
          "base_uri": "https://localhost:8080/"
        },
        "id": "5xIf5p0kqG7w",
        "outputId": "802aba50-40b4-42e9-9ffd-20f4eb7ae3fb"
      },
      "execution_count": null,
      "outputs": [
        {
          "output_type": "stream",
          "name": "stdout",
          "text": [
            "+---------+---------+--------------------+--------+--------------+---------+----------+--------------+\n",
            "|InvoiceNo|StockCode|         Description|Quantity|   InvoiceDate|UnitPrice|CustomerID|       Country|\n",
            "+---------+---------+--------------------+--------+--------------+---------+----------+--------------+\n",
            "|   536365|   85123A|WHITE HANGING HEA...|       6|12/1/2010 8:26|     2.55|     17850|United Kingdom|\n",
            "|   536365|    71053| WHITE METAL LANTERN|       6|12/1/2010 8:26|     3.39|     17850|United Kingdom|\n",
            "|   536365|   84406B|CREAM CUPID HEART...|       8|12/1/2010 8:26|     2.75|     17850|United Kingdom|\n",
            "|   536365|   84029G|KNITTED UNION FLA...|       6|12/1/2010 8:26|     3.39|     17850|United Kingdom|\n",
            "|   536365|   84029E|RED WOOLLY HOTTIE...|       6|12/1/2010 8:26|     3.39|     17850|United Kingdom|\n",
            "|   536365|    22752|SET 7 BABUSHKA NE...|       2|12/1/2010 8:26|     7.65|     17850|United Kingdom|\n",
            "|   536365|    21730|GLASS STAR FROSTE...|       6|12/1/2010 8:26|     4.25|     17850|United Kingdom|\n",
            "|   536366|    22633|HAND WARMER UNION...|       6|12/1/2010 8:28|     1.85|     17850|United Kingdom|\n",
            "|   536366|    22632|HAND WARMER RED P...|       6|12/1/2010 8:28|     1.85|     17850|United Kingdom|\n",
            "|   536367|    84879|ASSORTED COLOUR B...|      32|12/1/2010 8:34|     1.69|     13047|United Kingdom|\n",
            "|   536367|    22745|POPPY'S PLAYHOUSE...|       6|12/1/2010 8:34|      2.1|     13047|United Kingdom|\n",
            "|   536367|    22748|POPPY'S PLAYHOUSE...|       6|12/1/2010 8:34|      2.1|     13047|United Kingdom|\n",
            "|   536367|    22749|FELTCRAFT PRINCES...|       8|12/1/2010 8:34|     3.75|     13047|United Kingdom|\n",
            "|   536367|    22310|IVORY KNITTED MUG...|       6|12/1/2010 8:34|     1.65|     13047|United Kingdom|\n",
            "|   536367|    84969|BOX OF 6 ASSORTED...|       6|12/1/2010 8:34|     4.25|     13047|United Kingdom|\n",
            "|   536367|    22623|BOX OF VINTAGE JI...|       3|12/1/2010 8:34|     4.95|     13047|United Kingdom|\n",
            "|   536367|    22622|BOX OF VINTAGE AL...|       2|12/1/2010 8:34|     9.95|     13047|United Kingdom|\n",
            "|   536367|    21754|HOME BUILDING BLO...|       3|12/1/2010 8:34|     5.95|     13047|United Kingdom|\n",
            "|   536367|    21755|LOVE BUILDING BLO...|       3|12/1/2010 8:34|     5.95|     13047|United Kingdom|\n",
            "|   536367|    21777|RECIPE BOX WITH M...|       4|12/1/2010 8:34|     7.95|     13047|United Kingdom|\n",
            "+---------+---------+--------------------+--------+--------------+---------+----------+--------------+\n",
            "only showing top 20 rows\n",
            "\n",
            "root\n",
            " |-- InvoiceNo: string (nullable = true)\n",
            " |-- StockCode: string (nullable = true)\n",
            " |-- Description: string (nullable = true)\n",
            " |-- Quantity: integer (nullable = true)\n",
            " |-- InvoiceDate: string (nullable = true)\n",
            " |-- UnitPrice: double (nullable = true)\n",
            " |-- CustomerID: integer (nullable = true)\n",
            " |-- Country: string (nullable = true)\n",
            "\n",
            "(541909, 8)\n",
            "+-------+------------------+------------------+--------------------+------------------+---------------+-----------------+------------------+-----------+\n",
            "|summary|         InvoiceNo|         StockCode|         Description|          Quantity|    InvoiceDate|        UnitPrice|        CustomerID|    Country|\n",
            "+-------+------------------+------------------+--------------------+------------------+---------------+-----------------+------------------+-----------+\n",
            "|  count|            541909|            541909|              540455|            541909|         541909|           541909|            406829|     541909|\n",
            "|   mean|  559965.752026781|27623.240210938104|             20713.0|  9.55224954743324|           null|4.611113626082972|15287.690570239585|       null|\n",
            "| stddev|13428.417280800133| 16799.73762842775|                null|218.08115785023486|           null| 96.7598530611797| 1713.600303321594|       null|\n",
            "|    min|            536365|             10002| 4 PURPLE FLOCK D...|            -80995|1/10/2011 10:04|        -11062.06|             12346|  Australia|\n",
            "|    max|           C581569|                 m|   wrongly sold sets|             80995|  9/9/2011 9:52|          38970.0|             18287|Unspecified|\n",
            "+-------+------------------+------------------+--------------------+------------------+---------------+-----------------+------------------+-----------+\n",
            "\n",
            "+-------+------------------+------------------+--------------------+------------------+---------------+-----------------+------------------+-----------+\n",
            "|summary|         InvoiceNo|         StockCode|         Description|          Quantity|    InvoiceDate|        UnitPrice|        CustomerID|    Country|\n",
            "+-------+------------------+------------------+--------------------+------------------+---------------+-----------------+------------------+-----------+\n",
            "|  count|            541909|            541909|              540455|            541909|         541909|           541909|            406829|     541909|\n",
            "|   mean|  559965.752026781|27623.240210938104|             20713.0|  9.55224954743324|           null|4.611113626082972|15287.690570239585|       null|\n",
            "| stddev|13428.417280800133| 16799.73762842775|                null|218.08115785023486|           null| 96.7598530611797| 1713.600303321594|       null|\n",
            "|    min|            536365|             10002| 4 PURPLE FLOCK D...|            -80995|1/10/2011 10:04|        -11062.06|             12346|  Australia|\n",
            "|    25%|          547903.0|           21929.0|             20713.0|                 1|           null|             1.25|             13953|       null|\n",
            "|    50%|          560688.0|           22569.0|             20713.0|                 3|           null|             2.08|             15152|       null|\n",
            "|    75%|          571841.0|           23165.0|             20713.0|                10|           null|             4.13|             16791|       null|\n",
            "|    max|           C581569|                 m|   wrongly sold sets|             80995|  9/9/2011 9:52|          38970.0|             18287|Unspecified|\n",
            "+-------+------------------+------------------+--------------------+------------------+---------------+-----------------+------------------+-----------+\n",
            "\n",
            "+-------+------------------+-----------------+\n",
            "|summary|          Quantity|        UnitPrice|\n",
            "+-------+------------------+-----------------+\n",
            "|  count|            541909|           541909|\n",
            "|   mean|  9.55224954743324|4.611113626082972|\n",
            "| stddev|218.08115785023486| 96.7598530611797|\n",
            "|    min|            -80995|        -11062.06|\n",
            "|    max|             80995|          38970.0|\n",
            "+-------+------------------+-----------------+\n",
            "\n",
            "+-------+------------------+\n",
            "|summary|          Quantity|\n",
            "+-------+------------------+\n",
            "|  count|            541909|\n",
            "|   mean|  9.55224954743324|\n",
            "| stddev|218.08115785023486|\n",
            "|    min|            -80995|\n",
            "|    25%|                 1|\n",
            "|    50%|                 3|\n",
            "|    75%|                10|\n",
            "|    max|             80995|\n",
            "+-------+------------------+\n",
            "\n"
          ]
        }
      ]
    },
    {
      "cell_type": "markdown",
      "source": [
        "## 2.EDA"
      ],
      "metadata": {
        "id": "9pp8Uo7AyS9T"
      }
    },
    {
      "cell_type": "code",
      "source": [
        "#Exploratory Data Analysis (EDA) คือ การทำความเข้าใจข้อมูล/สำรวจข้อมูล\n",
        "\n",
        "# Non-Graphical EDA : show ไม่สวย\n",
        "\n",
        "# Select text-based information\n",
        "dt.where(dt['Quantity'] > 0).show()\n",
        "\n",
        "# ลองเลือก Quantity ระหว่าง 50 - 120\n",
        "dt.where( dt['Quantity'].between(50, 120) ).show()\n",
        "dt.where( (dt['Quantity'] > 50 ) & (dt['Quantity'] < 120) ).show()\n",
        "\n",
        "# ลองเลือก UnitPrice ระหว่าง 0.1 - 0.5\n",
        "dt.where( dt['UnitPrice'].between(0.1, 0.5) ).show()\n",
        "\n",
        "# Quantity ระหว่าง 50 - 120 และ UnitPrice ระหว่าง 0.1 - 0.5\n",
        "dt.where( (dt['Quantity'].between(50,120)) & (dt['unitprice'].between(0.1, 0.5))  ).show()"
      ],
      "metadata": {
        "colab": {
          "base_uri": "https://localhost:8080/"
        },
        "id": "pFJ00zNixZaP",
        "outputId": "fa3985ba-0f1b-44ee-89db-4b2c877b9f31"
      },
      "execution_count": null,
      "outputs": [
        {
          "output_type": "stream",
          "name": "stdout",
          "text": [
            "+---------+---------+--------------------+--------+--------------+---------+----------+--------------+\n",
            "|InvoiceNo|StockCode|         Description|Quantity|   InvoiceDate|UnitPrice|CustomerID|       Country|\n",
            "+---------+---------+--------------------+--------+--------------+---------+----------+--------------+\n",
            "|   536365|   85123A|WHITE HANGING HEA...|       6|12/1/2010 8:26|     2.55|     17850|United Kingdom|\n",
            "|   536365|    71053| WHITE METAL LANTERN|       6|12/1/2010 8:26|     3.39|     17850|United Kingdom|\n",
            "|   536365|   84406B|CREAM CUPID HEART...|       8|12/1/2010 8:26|     2.75|     17850|United Kingdom|\n",
            "|   536365|   84029G|KNITTED UNION FLA...|       6|12/1/2010 8:26|     3.39|     17850|United Kingdom|\n",
            "|   536365|   84029E|RED WOOLLY HOTTIE...|       6|12/1/2010 8:26|     3.39|     17850|United Kingdom|\n",
            "|   536365|    22752|SET 7 BABUSHKA NE...|       2|12/1/2010 8:26|     7.65|     17850|United Kingdom|\n",
            "|   536365|    21730|GLASS STAR FROSTE...|       6|12/1/2010 8:26|     4.25|     17850|United Kingdom|\n",
            "|   536366|    22633|HAND WARMER UNION...|       6|12/1/2010 8:28|     1.85|     17850|United Kingdom|\n",
            "|   536366|    22632|HAND WARMER RED P...|       6|12/1/2010 8:28|     1.85|     17850|United Kingdom|\n",
            "|   536367|    84879|ASSORTED COLOUR B...|      32|12/1/2010 8:34|     1.69|     13047|United Kingdom|\n",
            "|   536367|    22745|POPPY'S PLAYHOUSE...|       6|12/1/2010 8:34|      2.1|     13047|United Kingdom|\n",
            "|   536367|    22748|POPPY'S PLAYHOUSE...|       6|12/1/2010 8:34|      2.1|     13047|United Kingdom|\n",
            "|   536367|    22749|FELTCRAFT PRINCES...|       8|12/1/2010 8:34|     3.75|     13047|United Kingdom|\n",
            "|   536367|    22310|IVORY KNITTED MUG...|       6|12/1/2010 8:34|     1.65|     13047|United Kingdom|\n",
            "|   536367|    84969|BOX OF 6 ASSORTED...|       6|12/1/2010 8:34|     4.25|     13047|United Kingdom|\n",
            "|   536367|    22623|BOX OF VINTAGE JI...|       3|12/1/2010 8:34|     4.95|     13047|United Kingdom|\n",
            "|   536367|    22622|BOX OF VINTAGE AL...|       2|12/1/2010 8:34|     9.95|     13047|United Kingdom|\n",
            "|   536367|    21754|HOME BUILDING BLO...|       3|12/1/2010 8:34|     5.95|     13047|United Kingdom|\n",
            "|   536367|    21755|LOVE BUILDING BLO...|       3|12/1/2010 8:34|     5.95|     13047|United Kingdom|\n",
            "|   536367|    21777|RECIPE BOX WITH M...|       4|12/1/2010 8:34|     7.95|     13047|United Kingdom|\n",
            "+---------+---------+--------------------+--------+--------------+---------+----------+--------------+\n",
            "only showing top 20 rows\n",
            "\n",
            "+---------+---------+--------------------+--------+---------------+---------+----------+--------------+\n",
            "|InvoiceNo|StockCode|         Description|Quantity|    InvoiceDate|UnitPrice|CustomerID|       Country|\n",
            "+---------+---------+--------------------+--------+---------------+---------+----------+--------------+\n",
            "|   536371|    22086|PAPER CHAIN KIT 5...|      80| 12/1/2010 9:00|     2.55|     13748|United Kingdom|\n",
            "|   536376|    21733|RED HANGING HEART...|      64| 12/1/2010 9:32|     2.55|     15291|United Kingdom|\n",
            "|   536378|    21212|PACK OF 72 RETROS...|     120| 12/1/2010 9:37|     0.42|     14688|United Kingdom|\n",
            "|   536378|   85071B|RED CHARLIE+LOLA ...|      96| 12/1/2010 9:37|     0.38|     14688|United Kingdom|\n",
            "|   536382|    22381|TOY TIDY PINK POL...|      50| 12/1/2010 9:45|     1.85|     16098|United Kingdom|\n",
            "|   536386|   85099C|JUMBO  BAG BAROQU...|     100| 12/1/2010 9:57|     1.65|     16029|United Kingdom|\n",
            "|   536386|   85099B|JUMBO BAG RED RET...|     100| 12/1/2010 9:57|     1.65|     16029|United Kingdom|\n",
            "|   536390|   85123A|WHITE HANGING HEA...|      64|12/1/2010 10:19|     2.55|     17511|United Kingdom|\n",
            "|   536390|    22197|SMALL POPCORN HOLDER|     100|12/1/2010 10:19|     0.72|     17511|United Kingdom|\n",
            "|   536390|    22198|LARGE POPCORN HOL...|      50|12/1/2010 10:19|     1.45|     17511|United Kingdom|\n",
            "|   536390|    21080|SET/20 RED RETROS...|      96|12/1/2010 10:19|     0.64|     17511|United Kingdom|\n",
            "|   536390|    21094|SET/6 RED SPOTTY ...|      96|12/1/2010 10:19|     0.64|     17511|United Kingdom|\n",
            "|   536390|    22969|HOMEMADE JAM SCEN...|      96|12/1/2010 10:19|     1.25|     17511|United Kingdom|\n",
            "|   536390|   85099B|JUMBO BAG RED RET...|     100|12/1/2010 10:19|     1.65|     17511|United Kingdom|\n",
            "|   536394|    22633|HAND WARMER UNION...|      96|12/1/2010 10:39|     1.85|     13408|United Kingdom|\n",
            "|   536394|    22866|HAND WARMER SCOTT...|      96|12/1/2010 10:39|     1.85|     13408|United Kingdom|\n",
            "|   536394|    22865|HAND WARMER OWL D...|      96|12/1/2010 10:39|     1.85|     13408|United Kingdom|\n",
            "|   536394|    22632|HAND WARMER RED R...|      96|12/1/2010 10:39|     1.85|     13408|United Kingdom|\n",
            "|   536403|    22867|HAND WARMER BIRD ...|      96|12/1/2010 11:27|     1.85|     12791|   Netherlands|\n",
            "|   536414|    22139|                null|      56|12/1/2010 11:52|      0.0|      null|United Kingdom|\n",
            "+---------+---------+--------------------+--------+---------------+---------+----------+--------------+\n",
            "only showing top 20 rows\n",
            "\n",
            "+---------+---------+--------------------+--------+---------------+---------+----------+--------------+\n",
            "|InvoiceNo|StockCode|         Description|Quantity|    InvoiceDate|UnitPrice|CustomerID|       Country|\n",
            "+---------+---------+--------------------+--------+---------------+---------+----------+--------------+\n",
            "|   536371|    22086|PAPER CHAIN KIT 5...|      80| 12/1/2010 9:00|     2.55|     13748|United Kingdom|\n",
            "|   536376|    21733|RED HANGING HEART...|      64| 12/1/2010 9:32|     2.55|     15291|United Kingdom|\n",
            "|   536378|   85071B|RED CHARLIE+LOLA ...|      96| 12/1/2010 9:37|     0.38|     14688|United Kingdom|\n",
            "|   536386|   85099C|JUMBO  BAG BAROQU...|     100| 12/1/2010 9:57|     1.65|     16029|United Kingdom|\n",
            "|   536386|   85099B|JUMBO BAG RED RET...|     100| 12/1/2010 9:57|     1.65|     16029|United Kingdom|\n",
            "|   536390|   85123A|WHITE HANGING HEA...|      64|12/1/2010 10:19|     2.55|     17511|United Kingdom|\n",
            "|   536390|    22197|SMALL POPCORN HOLDER|     100|12/1/2010 10:19|     0.72|     17511|United Kingdom|\n",
            "|   536390|    21080|SET/20 RED RETROS...|      96|12/1/2010 10:19|     0.64|     17511|United Kingdom|\n",
            "|   536390|    21094|SET/6 RED SPOTTY ...|      96|12/1/2010 10:19|     0.64|     17511|United Kingdom|\n",
            "|   536390|    22969|HOMEMADE JAM SCEN...|      96|12/1/2010 10:19|     1.25|     17511|United Kingdom|\n",
            "|   536390|   85099B|JUMBO BAG RED RET...|     100|12/1/2010 10:19|     1.65|     17511|United Kingdom|\n",
            "|   536394|    22633|HAND WARMER UNION...|      96|12/1/2010 10:39|     1.85|     13408|United Kingdom|\n",
            "|   536394|    22866|HAND WARMER SCOTT...|      96|12/1/2010 10:39|     1.85|     13408|United Kingdom|\n",
            "|   536394|    22865|HAND WARMER OWL D...|      96|12/1/2010 10:39|     1.85|     13408|United Kingdom|\n",
            "|   536394|    22632|HAND WARMER RED R...|      96|12/1/2010 10:39|     1.85|     13408|United Kingdom|\n",
            "|   536403|    22867|HAND WARMER BIRD ...|      96|12/1/2010 11:27|     1.85|     12791|   Netherlands|\n",
            "|   536414|    22139|                null|      56|12/1/2010 11:52|      0.0|      null|United Kingdom|\n",
            "|   536416|    21915|RED  HARMONICA IN...|      72|12/1/2010 11:58|     1.25|     13255|United Kingdom|\n",
            "|   536437|    22189|CREAM HEART CARD ...|      72|12/1/2010 12:12|     3.39|     13694|United Kingdom|\n",
            "|   536477|    22571|ROCKING HORSE RED...|      96|12/1/2010 12:27|     0.72|     16210|United Kingdom|\n",
            "+---------+---------+--------------------+--------+---------------+---------+----------+--------------+\n",
            "only showing top 20 rows\n",
            "\n",
            "+---------+---------+--------------------+--------+---------------+---------+----------+--------------+\n",
            "|InvoiceNo|StockCode|         Description|Quantity|    InvoiceDate|UnitPrice|CustomerID|       Country|\n",
            "+---------+---------+--------------------+--------+---------------+---------+----------+--------------+\n",
            "|   536370|    22540|MINI JIGSAW CIRCU...|      24| 12/1/2010 8:45|     0.42|     12583|        France|\n",
            "|   536370|    22544|MINI JIGSAW SPACEBOY|      24| 12/1/2010 8:45|     0.42|     12583|        France|\n",
            "|   536378|    21212|PACK OF 72 RETROS...|     120| 12/1/2010 9:37|     0.42|     14688|United Kingdom|\n",
            "|   536378|   85071B|RED CHARLIE+LOLA ...|      96| 12/1/2010 9:37|     0.38|     14688|United Kingdom|\n",
            "|   536388|    22915|ASSORTED BOTTLE T...|      12| 12/1/2010 9:59|     0.42|     16250|United Kingdom|\n",
            "|   536390|    20668|DISCO BALL CHRIST...|     288|12/1/2010 10:19|      0.1|     17511|United Kingdom|\n",
            "|   536390|    21786|  POLKADOT RAIN HAT |     144|12/1/2010 10:19|     0.32|     17511|United Kingdom|\n",
            "|  C536391|    21984|PACK OF 12 PINK P...|     -24|12/1/2010 10:24|     0.29|     17548|United Kingdom|\n",
            "|  C536391|    21983|PACK OF 12 BLUE P...|     -24|12/1/2010 10:24|     0.29|     17548|United Kingdom|\n",
            "|  C536391|    21980|PACK OF 12 RED RE...|     -24|12/1/2010 10:24|     0.29|     17548|United Kingdom|\n",
            "|   536394|    21506|FANCY FONT BIRTHD...|      24|12/1/2010 10:39|     0.42|     13408|United Kingdom|\n",
            "|   536398|    21980|PACK OF 12 RED RE...|      24|12/1/2010 10:52|     0.29|     13448|United Kingdom|\n",
            "|   536408|    22537|MAGIC DRAWING SLA...|      24|12/1/2010 11:41|     0.42|     14307|United Kingdom|\n",
            "|   536408|    22533|MAGIC DRAWING SLA...|      24|12/1/2010 11:41|     0.42|     14307|United Kingdom|\n",
            "|   536408|    22716|  CARD CIRCUS PARADE|      12|12/1/2010 11:41|     0.42|     14307|United Kingdom|\n",
            "|   536408|    22706|      WRAP COWBOYS  |      25|12/1/2010 11:41|     0.42|     14307|United Kingdom|\n",
            "|   536408|    16237|SLEEPING CAT ERASERS|      30|12/1/2010 11:41|     0.21|     14307|United Kingdom|\n",
            "|   536408|    22714|CARD BIRTHDAY COWBOY|      12|12/1/2010 11:41|     0.42|     14307|United Kingdom|\n",
            "|   536409|    22531|MAGIC DRAWING SLA...|       1|12/1/2010 11:45|     0.42|     17908|United Kingdom|\n",
            "|   536409|    16238|PARTY TIME PENCIL...|      28|12/1/2010 11:45|     0.21|     17908|United Kingdom|\n",
            "+---------+---------+--------------------+--------+---------------+---------+----------+--------------+\n",
            "only showing top 20 rows\n",
            "\n",
            "+---------+---------+--------------------+--------+---------------+---------+----------+--------------+\n",
            "|InvoiceNo|StockCode|         Description|Quantity|    InvoiceDate|UnitPrice|CustomerID|       Country|\n",
            "+---------+---------+--------------------+--------+---------------+---------+----------+--------------+\n",
            "|   536378|    21212|PACK OF 72 RETROS...|     120| 12/1/2010 9:37|     0.42|     14688|United Kingdom|\n",
            "|   536378|   85071B|RED CHARLIE+LOLA ...|      96| 12/1/2010 9:37|     0.38|     14688|United Kingdom|\n",
            "|   536532|    84692|BOX OF 24 COCKTAI...|      50|12/1/2010 13:24|     0.42|     12433|        Norway|\n",
            "|   536563|   85199S|SMALL HANGING IVO...|      72|12/1/2010 15:08|     0.42|     17760|United Kingdom|\n",
            "|   536617|    85175|CACTI T-LIGHT CAN...|      96|12/2/2010 10:17|     0.42|     13941|United Kingdom|\n",
            "|   536620|    21215|IVORY PAPER CUP C...|     120|12/2/2010 10:27|     0.42|     14135|United Kingdom|\n",
            "|   536620|    21212|PACK OF 72 RETROS...|     120|12/2/2010 10:27|     0.42|     14135|United Kingdom|\n",
            "|   536620|    21977|PACK OF 60 PINK P...|     120|12/2/2010 10:27|     0.42|     14135|United Kingdom|\n",
            "|   536620|    84991|60 TEATIME FAIRY ...|     120|12/2/2010 10:27|     0.42|     14135|United Kingdom|\n",
            "|   536783|    22530|MAGIC DRAWING SLA...|      60|12/2/2010 15:19|     0.36|     15061|United Kingdom|\n",
            "|   536783|    21506|FANCY FONT BIRTHD...|     108|12/2/2010 15:19|     0.36|     15061|United Kingdom|\n",
            "|   536783|    21500| PINK POLKADOT WRAP |      75|12/2/2010 15:19|     0.34|     15061|United Kingdom|\n",
            "|   536783|    21212|PACK OF 72 RETROS...|     120|12/2/2010 15:19|     0.42|     15061|United Kingdom|\n",
            "|   536783|    84692|BOX OF 24 COCKTAI...|      50|12/2/2010 15:19|     0.32|     15061|United Kingdom|\n",
            "|   536783|    22534|MAGIC DRAWING SLA...|      96|12/2/2010 15:19|     0.36|     15061|United Kingdom|\n",
            "|   536784|    21499|  BLUE POLKADOT WRAP|      50|12/2/2010 15:20|     0.34|     15061|United Kingdom|\n",
            "|   536784|    21498| RED RETROSPOT WRAP |      50|12/2/2010 15:20|     0.34|     15061|United Kingdom|\n",
            "|   536784|    21212|PACK OF 72 RETROS...|     120|12/2/2010 15:20|     0.42|     15061|United Kingdom|\n",
            "|   536784|    16237|SLEEPING CAT ERASERS|      90|12/2/2010 15:20|     0.16|     15061|United Kingdom|\n",
            "|   536975|    22049|WRAP CHRISTMAS SC...|      50|12/3/2010 14:04|     0.42|     14911|          EIRE|\n",
            "+---------+---------+--------------------+--------+---------------+---------+----------+--------------+\n",
            "only showing top 20 rows\n",
            "\n"
          ]
        }
      ]
    },
    {
      "cell_type": "code",
      "source": [
        "# Graphical EDA : show สวย\n",
        "\n",
        "import seaborn as sns\n",
        "import matplotlib.pyplot as plt\n",
        "import pandas as pd\n",
        "\n",
        "# แปลง Spark Dataframe เป็น Pandas Dataframe\n",
        "dt_pd = dt.toPandas()\n",
        "\n",
        "\n",
        "# เลือกข้อมูล 500 แถวแรกเพื่อความรวดเร็วและความเรียบง่ายในการ visualize ข้อมูล\n",
        "dt_pd_subset = dt_pd[0:500]\n",
        "\n",
        "# Boxplot\n",
        "sns.boxplot(dt_pd_subset['UnitPrice'])\n",
        "\n",
        "# Histogram\n",
        "sns.displot(data=dt_pd_subset['UnitPrice']) \n",
        "plt.show() #ใส่ไว้เพื่อไม่ให้มันทับกัน\n",
        "\n",
        "# Scatterplot\n",
        "dt_pd_subset.plot.scatter('UnitPrice', 'Quantity')\n",
        "\n",
        "# Plotly - interactive chart\n",
        "import plotly.express as px\n",
        "fig = px.scatter(dt_pd_subset, 'UnitPrice', 'Quantity')\n",
        "fig.show()"
      ],
      "metadata": {
        "colab": {
          "base_uri": "https://localhost:8080/",
          "height": 1000
        },
        "id": "m0WQLF7Tf6g3",
        "outputId": "b018e7c9-a622-423c-c37b-8efd47448252"
      },
      "execution_count": null,
      "outputs": [
        {
          "output_type": "stream",
          "name": "stderr",
          "text": [
            "/usr/local/lib/python3.8/dist-packages/seaborn/_decorators.py:36: FutureWarning: Pass the following variable as a keyword arg: x. From version 0.12, the only valid positional argument will be `data`, and passing other arguments without an explicit keyword will result in an error or misinterpretation.\n",
            "  warnings.warn(\n"
          ]
        },
        {
          "output_type": "display_data",
          "data": {
            "text/plain": [
              "<Figure size 432x288 with 1 Axes>"
            ],
            "image/png": "[encoded data removed]"
          },
          "metadata": {
            "needs_background": "light"
          }
        },
        {
          "output_type": "display_data",
          "data": {
            "text/plain": [
              "<Figure size 360x360 with 1 Axes>"
            ],
            "image/png": "[encoded data removed]"
          },
          "metadata": {
            "needs_background": "light"
          }
        },
        {
          "output_type": "display_data",
          "data": {
            "text/html": [
              "<html>\n",
              "<head><meta charset=\"utf-8\" /></head>\n",
              "<body>\n",
              "    <div>            <script src=\"https://cdnjs.cloudflare.com/ajax/libs/mathjax/2.7.5/MathJax.js?config=TeX-AMS-MML_SVG\"></script><script type=\"text/javascript\">if (window.MathJax) {MathJax.Hub.Config({SVG: {font: \"STIX-Web\"}});}</script>                <script type=\"text/javascript\">window.PlotlyConfig = {MathJaxConfig: 'local'};</script>\n",
              "        <script src=\"https://cdn.plot.ly/plotly-2.8.3.min.js\"></script>                <div id=\"290b598c-5422-40dd-ad8d-8101debb0984\" class=\"plotly-graph-div\" style=\"height:525px; width:100%;\"></div>            <script type=\"text/javascript\">                                    window.PLOTLYENV=window.PLOTLYENV || {};                                    if (document.getElementById(\"290b598c-5422-40dd-ad8d-8101debb0984\")) {                    Plotly.newPlot(                        \"290b598c-5422-40dd-ad8d-8101debb0984\",                        [{\"hovertemplate\":\"UnitPrice=%{x}<br>Quantity=%{y}<extra></extra>\",\"legendgroup\":\"\",\"marker\":{\"color\":\"#636efa\",\"symbol\":\"circle\"},\"mode\":\"markers\",\"name\":\"\",\"orientation\":\"v\",\"showlegend\":false,\"x\":[2.55,3.39,2.75,3.39,3.39,7.65,4.25,1.85,1.85,1.69,2.1,2.1,3.75,1.65,4.25,4.95,9.95,5.95,5.95,7.95,7.95,4.25,4.95,4.95,4.95,5.95,3.75,3.75,3.75,0.85,0.65,0.85,1.25,2.95,2.95,1.95,1.95,1.95,0.85,1.65,2.95,3.75,0.42,0.42,0.65,18.0,2.55,1.85,1.85,2.55,3.39,2.75,4.95,1.06,1.06,1.06,1.06,4.95,6.95,2.1,2.55,3.39,3.39,7.65,4.25,10.95,2.55,3.39,2.75,4.95,1.06,1.06,1.06,1.06,4.95,6.95,2.1,2.55,3.39,3.39,7.65,4.25,3.45,2.55,1.85,1.85,1.95,1.95,2.95,0.85,3.75,3.75,0.85,1.65,2.55,2.55,0.42,0.55,0.55,0.55,2.95,1.25,0.38,1.95,1.95,1.45,4.25,4.95,1.95,2.1,1.25,1.25,1.25,1.25,0.85,2.55,1.65,1.69,1.95,2.1,2.95,2.95,2.95,2.95,0.85,1.25,2.55,0.85,0.85,1.45,4.95,2.95,5.95,5.95,1.45,2.95,1.95,1.65,3.95,1.06,6.75,27.5,0.85,3.75,1.65,1.95,2.1,1.85,2.95,3.75,5.95,14.95,14.95,16.95,4.65,6.45,0.65,1.65,2.95,2.95,1.45,2.55,2.95,12.75,3.95,5.95,6.95,10.95,19.95,1.45,4.25,1.95,1.25,8.5,1.65,4.95,1.65,1.65,3.82,3.37,3.37,1.45,1.25,5.95,5.95,7.95,4.95,4.25,2.95,1.65,0.42,0.85,1.45,0.85,6.75,1.65,1.65,8.5,4.95,1.25,5.45,6.35,5.95,5.95,8.5,3.75,3.75,8.5,8.5,1.65,0.85,8.5,3.75,1.45,0.72,0.72,8.5,0.64,2.55,0.1,2.55,0.72,1.45,4.25,0.64,0.64,0.65,0.32,4.95,4.25,3.39,3.75,1.48,1.25,1.65,1.65,0.29,0.29,0.29,3.45,1.65,1.65,1.95,3.75,1.25,1.25,165.0,1.25,1.25,5.95,1.69,0.65,9.95,0.42,1.85,1.85,1.85,1.85,4.95,3.75,1.25,2.1,2.55,1.65,3.95,1.69,0.55,0.55,0.55,3.45,2.1,3.75,3.75,3.75,3.75,3.95,2.1,2.1,2.55,3.39,2.75,4.95,4.95,1.06,1.06,1.06,1.06,4.95,6.95,2.1,2.55,3.39,3.39,7.65,35.75,4.25,4.65,4.65,0.29,2.95,6.75,2.55,8.5,7.95,2.1,2.1,2.1,1.25,1.65,3.35,3.95,4.65,4.95,3.75,4.95,1.85,1.85,1.45,2.55,1.25,1.25,2.95,3.35,1.45,1.25,1.25,1.65,1.45,1.25,4.95,3.75,1.25,9.95,9.95,5.95,4.25,4.95,2.55,2.95,1.69,7.95,0.55,0.55,0.55,2.95,2.1,2.1,1.25,0.85,0.55,2.95,2.95,1.25,1.25,1.25,1.25,1.65,2.95,2.95,5.95,1.25,2.55,0.85,1.65,2.95,2.95,5.95,7.95,1.65,1.65,1.65,1.65,2.55,2.95,2.95,2.55,16.95,2.95,10.65,4.25,6.95,5.95,2.55,2.55,4.25,1.85,15.0,1.25,1.25,1.25,1.25,1.25,1.65,0.85,1.25,1.25,1.25,1.25,1.25,1.25,0.85,0.85,0.85,1.25,1.25,2.1,0.55,0.55,0.55,0.55,0.55,1.65,1.65,1.65,1.65,2.55,2.55,3.39,2.75,4.95,1.06,1.06,1.06,1.06,4.95,6.95,2.1,2.55,3.39,3.39,7.65,35.75,4.25,1.85,1.85,0.42,0.42,0.85,1.65,1.25,1.25,0.85,1.95,3.95,3.75,3.75,2.1,2.1,0.85,1.25,0.95,2.95,1.65,1.65,7.95,7.95,1.65,0.85,1.69,5.95,5.95,2.95,0.85,0.42,0.42,4.25,5.95,5.95,3.75,0.55,1.45,4.95,1.65,0.21,0.42,1.95,2.55,2.55,1.65,0.65,1.25,3.75,1.65,6.35,3.75,4.95,6.75,1.25,1.65,2.1,3.75,2.1,2.1,2.95,1.25,1.25,2.95,2.95,6.35,7.95],\"xaxis\":\"x\",\"y\":[6,6,8,6,6,2,6,6,6,32,6,6,8,6,6,3,2,3,3,4,4,6,3,3,3,3,24,24,12,12,24,48,24,18,24,24,24,24,20,24,24,12,24,24,36,3,80,6,6,6,6,8,6,6,6,6,6,2,4,6,6,6,6,2,6,32,6,6,8,6,6,6,6,6,2,4,6,6,6,6,2,6,48,64,6,6,10,10,10,10,12,6,12,10,6,6,120,24,24,24,6,48,96,10,10,24,23,5,10,2,6,24,24,1,1,1,10,3,1,2,1,1,4,1,6,3,2,1,1,1,1,2,2,2,4,1,1,2,3,36,10,-1,12,8,12,10,10,50,8,4,12,2,2,4,-1,3,48,12,6,12,40,40,6,2,4,3,6,8,1,12,6,10,12,2,10,36,100,100,192,192,192,432,432,3,3,2,3,3,6,12,12,12,12,12,4,12,12,6,8,12,6,4,6,3,2,4,4,2,2,24,24,2,12,12,48,48,8,144,40,288,64,100,50,12,96,96,48,144,40,24,24,24,48,96,100,-12,-24,-24,-24,-12,-12,-24,6,4,12,12,1,12,12,4,16,24,8,24,96,96,96,96,12,12,48,12,32,20,8,32,24,24,24,8,8,4,8,8,8,8,48,48,6,6,8,6,6,6,6,6,6,2,4,6,12,6,6,2,2,6,12,48,24,6,4,8,6,2,12,12,12,12,12,6,4,8,9,4,9,6,6,12,1,1,2,1,1,1,1,2,1,4,1,1,2,2,2,1,1,1,3,1,1,2,1,1,1,2,4,2,1,1,1,3,1,1,2,3,1,1,2,2,2,1,1,2,9,1,4,3,1,1,1,2,1,1,5,3,3,9,1,4,1,1,2,2,40,40,36,96,1,24,12,12,12,12,12,36,12,12,12,12,12,12,12,12,12,12,12,12,24,24,24,24,24,10,10,10,24,128,8,8,8,6,6,6,6,6,4,4,6,6,6,6,2,2,6,6,6,24,24,12,12,12,12,12,12,4,4,4,6,12,24,12,12,6,12,6,2,2,12,12,8,3,3,8,36,12,25,4,3,3,6,24,12,3,12,30,12,12,6,12,10,36,12,4,12,3,1,1,1,1,1,1,1,1,1,1,1,1,1,1,1,1],\"yaxis\":\"y\",\"type\":\"scatter\"}],                        {\"template\":{\"data\":{\"bar\":[{\"error_x\":{\"color\":\"#2a3f5f\"},\"error_y\":{\"color\":\"#2a3f5f\"},\"marker\":{\"line\":{\"color\":\"#E5ECF6\",\"width\":0.5},\"pattern\":{\"fillmode\":\"overlay\",\"size\":10,\"solidity\":0.2}},\"type\":\"bar\"}],\"barpolar\":[{\"marker\":{\"line\":{\"color\":\"#E5ECF6\",\"width\":0.5},\"pattern\":{\"fillmode\":\"overlay\",\"size\":10,\"solidity\":0.2}},\"type\":\"barpolar\"}],\"carpet\":[{\"aaxis\":{\"endlinecolor\":\"#2a3f5f\",\"gridcolor\":\"white\",\"linecolor\":\"white\",\"minorgridcolor\":\"white\",\"startlinecolor\":\"#2a3f5f\"},\"baxis\":{\"endlinecolor\":\"#2a3f5f\",\"gridcolor\":\"white\",\"linecolor\":\"white\",\"minorgridcolor\":\"white\",\"startlinecolor\":\"#2a3f5f\"},\"type\":\"carpet\"}],\"choropleth\":[{\"colorbar\":{\"outlinewidth\":0,\"ticks\":\"\"},\"type\":\"choropleth\"}],\"contour\":[{\"colorbar\":{\"outlinewidth\":0,\"ticks\":\"\"},\"colorscale\":[[0.0,\"#0d0887\"],[0.1111111111111111,\"#46039f\"],[0.2222222222222222,\"#7201a8\"],[0.3333333333333333,\"#9c179e\"],[0.4444444444444444,\"#bd3786\"],[0.5555555555555556,\"#d8576b\"],[0.6666666666666666,\"#ed7953\"],[0.7777777777777778,\"#fb9f3a\"],[0.8888888888888888,\"#fdca26\"],[1.0,\"#f0f921\"]],\"type\":\"contour\"}],\"contourcarpet\":[{\"colorbar\":{\"outlinewidth\":0,\"ticks\":\"\"},\"type\":\"contourcarpet\"}],\"heatmap\":[{\"colorbar\":{\"outlinewidth\":0,\"ticks\":\"\"},\"colorscale\":[[0.0,\"#0d0887\"],[0.1111111111111111,\"#46039f\"],[0.2222222222222222,\"#7201a8\"],[0.3333333333333333,\"#9c179e\"],[0.4444444444444444,\"#bd3786\"],[0.5555555555555556,\"#d8576b\"],[0.6666666666666666,\"#ed7953\"],[0.7777777777777778,\"#fb9f3a\"],[0.8888888888888888,\"#fdca26\"],[1.0,\"#f0f921\"]],\"type\":\"heatmap\"}],\"heatmapgl\":[{\"colorbar\":{\"outlinewidth\":0,\"ticks\":\"\"},\"colorscale\":[[0.0,\"#0d0887\"],[0.1111111111111111,\"#46039f\"],[0.2222222222222222,\"#7201a8\"],[0.3333333333333333,\"#9c179e\"],[0.4444444444444444,\"#bd3786\"],[0.5555555555555556,\"#d8576b\"],[0.6666666666666666,\"#ed7953\"],[0.7777777777777778,\"#fb9f3a\"],[0.8888888888888888,\"#fdca26\"],[1.0,\"#f0f921\"]],\"type\":\"heatmapgl\"}],\"histogram\":[{\"marker\":{\"pattern\":{\"fillmode\":\"overlay\",\"size\":10,\"solidity\":0.2}},\"type\":\"histogram\"}],\"histogram2d\":[{\"colorbar\":{\"outlinewidth\":0,\"ticks\":\"\"},\"colorscale\":[[0.0,\"#0d0887\"],[0.1111111111111111,\"#46039f\"],[0.2222222222222222,\"#7201a8\"],[0.3333333333333333,\"#9c179e\"],[0.4444444444444444,\"#bd3786\"],[0.5555555555555556,\"#d8576b\"],[0.6666666666666666,\"#ed7953\"],[0.7777777777777778,\"#fb9f3a\"],[0.8888888888888888,\"#fdca26\"],[1.0,\"#f0f921\"]],\"type\":\"histogram2d\"}],\"histogram2dcontour\":[{\"colorbar\":{\"outlinewidth\":0,\"ticks\":\"\"},\"colorscale\":[[0.0,\"#0d0887\"],[0.1111111111111111,\"#46039f\"],[0.2222222222222222,\"#7201a8\"],[0.3333333333333333,\"#9c179e\"],[0.4444444444444444,\"#bd3786\"],[0.5555555555555556,\"#d8576b\"],[0.6666666666666666,\"#ed7953\"],[0.7777777777777778,\"#fb9f3a\"],[0.8888888888888888,\"#fdca26\"],[1.0,\"#f0f921\"]],\"type\":\"histogram2dcontour\"}],\"mesh3d\":[{\"colorbar\":{\"outlinewidth\":0,\"ticks\":\"\"},\"type\":\"mesh3d\"}],\"parcoords\":[{\"line\":{\"colorbar\":{\"outlinewidth\":0,\"ticks\":\"\"}},\"type\":\"parcoords\"}],\"pie\":[{\"automargin\":true,\"type\":\"pie\"}],\"scatter\":[{\"marker\":{\"colorbar\":{\"outlinewidth\":0,\"ticks\":\"\"}},\"type\":\"scatter\"}],\"scatter3d\":[{\"line\":{\"colorbar\":{\"outlinewidth\":0,\"ticks\":\"\"}},\"marker\":{\"colorbar\":{\"outlinewidth\":0,\"ticks\":\"\"}},\"type\":\"scatter3d\"}],\"scattercarpet\":[{\"marker\":{\"colorbar\":{\"outlinewidth\":0,\"ticks\":\"\"}},\"type\":\"scattercarpet\"}],\"scattergeo\":[{\"marker\":{\"colorbar\":{\"outlinewidth\":0,\"ticks\":\"\"}},\"type\":\"scattergeo\"}],\"scattergl\":[{\"marker\":{\"colorbar\":{\"outlinewidth\":0,\"ticks\":\"\"}},\"type\":\"scattergl\"}],\"scattermapbox\":[{\"marker\":{\"colorbar\":{\"outlinewidth\":0,\"ticks\":\"\"}},\"type\":\"scattermapbox\"}],\"scatterpolar\":[{\"marker\":{\"colorbar\":{\"outlinewidth\":0,\"ticks\":\"\"}},\"type\":\"scatterpolar\"}],\"scatterpolargl\":[{\"marker\":{\"colorbar\":{\"outlinewidth\":0,\"ticks\":\"\"}},\"type\":\"scatterpolargl\"}],\"scatterternary\":[{\"marker\":{\"colorbar\":{\"outlinewidth\":0,\"ticks\":\"\"}},\"type\":\"scatterternary\"}],\"surface\":[{\"colorbar\":{\"outlinewidth\":0,\"ticks\":\"\"},\"colorscale\":[[0.0,\"#0d0887\"],[0.1111111111111111,\"#46039f\"],[0.2222222222222222,\"#7201a8\"],[0.3333333333333333,\"#9c179e\"],[0.4444444444444444,\"#bd3786\"],[0.5555555555555556,\"#d8576b\"],[0.6666666666666666,\"#ed7953\"],[0.7777777777777778,\"#fb9f3a\"],[0.8888888888888888,\"#fdca26\"],[1.0,\"#f0f921\"]],\"type\":\"surface\"}],\"table\":[{\"cells\":{\"fill\":{\"color\":\"#EBF0F8\"},\"line\":{\"color\":\"white\"}},\"header\":{\"fill\":{\"color\":\"#C8D4E3\"},\"line\":{\"color\":\"white\"}},\"type\":\"table\"}]},\"layout\":{\"annotationdefaults\":{\"arrowcolor\":\"#2a3f5f\",\"arrowhead\":0,\"arrowwidth\":1},\"autotypenumbers\":\"strict\",\"coloraxis\":{\"colorbar\":{\"outlinewidth\":0,\"ticks\":\"\"}},\"colorscale\":{\"diverging\":[[0,\"#8e0152\"],[0.1,\"#c51b7d\"],[0.2,\"#de77ae\"],[0.3,\"#f1b6da\"],[0.4,\"#fde0ef\"],[0.5,\"#f7f7f7\"],[0.6,\"#e6f5d0\"],[0.7,\"#b8e186\"],[0.8,\"#7fbc41\"],[0.9,\"#4d9221\"],[1,\"#276419\"]],\"sequential\":[[0.0,\"#0d0887\"],[0.1111111111111111,\"#46039f\"],[0.2222222222222222,\"#7201a8\"],[0.3333333333333333,\"#9c179e\"],[0.4444444444444444,\"#bd3786\"],[0.5555555555555556,\"#d8576b\"],[0.6666666666666666,\"#ed7953\"],[0.7777777777777778,\"#fb9f3a\"],[0.8888888888888888,\"#fdca26\"],[1.0,\"#f0f921\"]],\"sequentialminus\":[[0.0,\"#0d0887\"],[0.1111111111111111,\"#46039f\"],[0.2222222222222222,\"#7201a8\"],[0.3333333333333333,\"#9c179e\"],[0.4444444444444444,\"#bd3786\"],[0.5555555555555556,\"#d8576b\"],[0.6666666666666666,\"#ed7953\"],[0.7777777777777778,\"#fb9f3a\"],[0.8888888888888888,\"#fdca26\"],[1.0,\"#f0f921\"]]},\"colorway\":[\"#636efa\",\"#EF553B\",\"#00cc96\",\"#ab63fa\",\"#FFA15A\",\"#19d3f3\",\"#FF6692\",\"#B6E880\",\"#FF97FF\",\"#FECB52\"],\"font\":{\"color\":\"#2a3f5f\"},\"geo\":{\"bgcolor\":\"white\",\"lakecolor\":\"white\",\"landcolor\":\"#E5ECF6\",\"showlakes\":true,\"showland\":true,\"subunitcolor\":\"white\"},\"hoverlabel\":{\"align\":\"left\"},\"hovermode\":\"closest\",\"mapbox\":{\"style\":\"light\"},\"paper_bgcolor\":\"white\",\"plot_bgcolor\":\"#E5ECF6\",\"polar\":{\"angularaxis\":{\"gridcolor\":\"white\",\"linecolor\":\"white\",\"ticks\":\"\"},\"bgcolor\":\"#E5ECF6\",\"radialaxis\":{\"gridcolor\":\"white\",\"linecolor\":\"white\",\"ticks\":\"\"}},\"scene\":{\"xaxis\":{\"backgroundcolor\":\"#E5ECF6\",\"gridcolor\":\"white\",\"gridwidth\":2,\"linecolor\":\"white\",\"showbackground\":true,\"ticks\":\"\",\"zerolinecolor\":\"white\"},\"yaxis\":{\"backgroundcolor\":\"#E5ECF6\",\"gridcolor\":\"white\",\"gridwidth\":2,\"linecolor\":\"white\",\"showbackground\":true,\"ticks\":\"\",\"zerolinecolor\":\"white\"},\"zaxis\":{\"backgroundcolor\":\"#E5ECF6\",\"gridcolor\":\"white\",\"gridwidth\":2,\"linecolor\":\"white\",\"showbackground\":true,\"ticks\":\"\",\"zerolinecolor\":\"white\"}},\"shapedefaults\":{\"line\":{\"color\":\"#2a3f5f\"}},\"ternary\":{\"aaxis\":{\"gridcolor\":\"white\",\"linecolor\":\"white\",\"ticks\":\"\"},\"baxis\":{\"gridcolor\":\"white\",\"linecolor\":\"white\",\"ticks\":\"\"},\"bgcolor\":\"#E5ECF6\",\"caxis\":{\"gridcolor\":\"white\",\"linecolor\":\"white\",\"ticks\":\"\"}},\"title\":{\"x\":0.05},\"xaxis\":{\"automargin\":true,\"gridcolor\":\"white\",\"linecolor\":\"white\",\"ticks\":\"\",\"title\":{\"standoff\":15},\"zerolinecolor\":\"white\",\"zerolinewidth\":2},\"yaxis\":{\"automargin\":true,\"gridcolor\":\"white\",\"linecolor\":\"white\",\"ticks\":\"\",\"title\":{\"standoff\":15},\"zerolinecolor\":\"white\",\"zerolinewidth\":2}}},\"xaxis\":{\"anchor\":\"y\",\"domain\":[0.0,1.0],\"title\":{\"text\":\"UnitPrice\"}},\"yaxis\":{\"anchor\":\"x\",\"domain\":[0.0,1.0],\"title\":{\"text\":\"Quantity\"}},\"legend\":{\"tracegroupgap\":0},\"margin\":{\"t\":60}},                        {\"responsive\": true}                    ).then(function(){\n",
              "                            \n",
              "var gd = document.getElementById('290b598c-5422-40dd-ad8d-8101debb0984');\n",
              "var x = new MutationObserver(function (mutations, observer) {{\n",
              "        var display = window.getComputedStyle(gd).display;\n",
              "        if (!display || display === 'none') {{\n",
              "            console.log([gd, 'removed!']);\n",
              "            Plotly.purge(gd);\n",
              "            observer.disconnect();\n",
              "        }}\n",
              "}});\n",
              "\n",
              "// Listen for the removal of the full notebook cells\n",
              "var notebookContainer = gd.closest('#notebook-container');\n",
              "if (notebookContainer) {{\n",
              "    x.observe(notebookContainer, {childList: true});\n",
              "}}\n",
              "\n",
              "// Listen for the clearing of the current output cell\n",
              "var outputEl = gd.closest('.output');\n",
              "if (outputEl) {{\n",
              "    x.observe(outputEl, {childList: true});\n",
              "}}\n",
              "\n",
              "                        })                };                            </script>        </div>\n",
              "</body>\n",
              "</html>"
            ]
          },
          "metadata": {}
        },
        {
          "output_type": "display_data",
          "data": {
            "text/plain": [
              "<Figure size 432x288 with 1 Axes>"
            ],
            "image/png": "[encoded data removed]"
          },
          "metadata": {
            "needs_background": "light"
          }
        }
      ]
    },
    {
      "cell_type": "markdown",
      "source": [
        "## 3.Data Cleansing with Spark\n"
      ],
      "metadata": {
        "id": "K4aapkSXkLUm"
      }
    },
    {
      "cell_type": "code",
      "source": [
        "# Show Schema\n",
        "dt.printSchema() #It shows that \"timestamp\" is in string type, we need to change it to date-time type\n",
        "\n",
        "# Show unique Invoice Date : ค่าที่ไม่ซ้ำ\n",
        "dt.select(\"InvoiceDate\").distinct().show()"
      ],
      "metadata": {
        "colab": {
          "base_uri": "https://localhost:8080/"
        },
        "id": "LkH7dmc6jSrj",
        "outputId": "69d22170-4a14-4deb-a2d8-a6c48e2d3dc4"
      },
      "execution_count": null,
      "outputs": [
        {
          "output_type": "stream",
          "name": "stdout",
          "text": [
            "root\n",
            " |-- InvoiceNo: string (nullable = true)\n",
            " |-- StockCode: string (nullable = true)\n",
            " |-- Description: string (nullable = true)\n",
            " |-- Quantity: integer (nullable = true)\n",
            " |-- InvoiceDate: string (nullable = true)\n",
            " |-- UnitPrice: double (nullable = true)\n",
            " |-- CustomerID: integer (nullable = true)\n",
            " |-- Country: string (nullable = true)\n",
            "\n",
            "+----------------+\n",
            "|     InvoiceDate|\n",
            "+----------------+\n",
            "| 12/1/2010 11:45|\n",
            "| 12/1/2010 12:36|\n",
            "| 12/2/2010 15:26|\n",
            "| 12/6/2010 11:01|\n",
            "| 12/8/2010 13:14|\n",
            "| 12/9/2010 14:29|\n",
            "| 12/9/2010 15:21|\n",
            "| 12/15/2010 9:20|\n",
            "|12/19/2010 15:31|\n",
            "|  1/5/2011 15:30|\n",
            "|  1/9/2011 14:12|\n",
            "| 1/14/2011 12:05|\n",
            "| 1/16/2011 12:11|\n",
            "| 1/16/2011 13:54|\n",
            "| 1/23/2011 11:48|\n",
            "| 1/24/2011 14:01|\n",
            "| 1/28/2011 11:27|\n",
            "| 1/31/2011 12:14|\n",
            "| 1/31/2011 12:21|\n",
            "|   2/1/2011 8:31|\n",
            "+----------------+\n",
            "only showing top 20 rows\n",
            "\n"
          ]
        }
      ]
    },
    {
      "cell_type": "code",
      "source": [
        "# แปลง string เป็น date\n",
        "from pyspark.sql import functions as f\n",
        "\n",
        "# สร้าง col\n",
        "dt_temp = dt.withColumn(\"InvoiceDateTime\",\n",
        "                        f.to_timestamp(dt.InvoiceDate,'M/d/y H:m')\n",
        "                        )\n",
        "                        #https://stackoverflow.com/questions/71381548/pyspark-convert-string-to-timestamp\n",
        "dt_temp.show()\n",
        "                      \n",
        "dt_temp.printSchema()\n",
        "\n",
        "dt_final = dt_temp.drop('InvoiceDate')\n",
        "dt_final.show()\n",
        "\n",
        "dt_final.printSchema()"
      ],
      "metadata": {
        "colab": {
          "base_uri": "https://localhost:8080/"
        },
        "id": "ooxwbmxAwlb_",
        "outputId": "745258b0-7165-4676-d290-4d875fb2313e"
      },
      "execution_count": null,
      "outputs": [
        {
          "output_type": "stream",
          "name": "stdout",
          "text": [
            "+---------+---------+--------------------+--------+--------------+---------+----------+--------------+-------------------+\n",
            "|InvoiceNo|StockCode|         Description|Quantity|   InvoiceDate|UnitPrice|CustomerID|       Country|    InvoiceDateTime|\n",
            "+---------+---------+--------------------+--------+--------------+---------+----------+--------------+-------------------+\n",
            "|   536365|   85123A|WHITE HANGING HEA...|       6|12/1/2010 8:26|     2.55|     17850|United Kingdom|2010-12-01 08:26:00|\n",
            "|   536365|    71053| WHITE METAL LANTERN|       6|12/1/2010 8:26|     3.39|     17850|United Kingdom|2010-12-01 08:26:00|\n",
            "|   536365|   84406B|CREAM CUPID HEART...|       8|12/1/2010 8:26|     2.75|     17850|United Kingdom|2010-12-01 08:26:00|\n",
            "|   536365|   84029G|KNITTED UNION FLA...|       6|12/1/2010 8:26|     3.39|     17850|United Kingdom|2010-12-01 08:26:00|\n",
            "|   536365|   84029E|RED WOOLLY HOTTIE...|       6|12/1/2010 8:26|     3.39|     17850|United Kingdom|2010-12-01 08:26:00|\n",
            "|   536365|    22752|SET 7 BABUSHKA NE...|       2|12/1/2010 8:26|     7.65|     17850|United Kingdom|2010-12-01 08:26:00|\n",
            "|   536365|    21730|GLASS STAR FROSTE...|       6|12/1/2010 8:26|     4.25|     17850|United Kingdom|2010-12-01 08:26:00|\n",
            "|   536366|    22633|HAND WARMER UNION...|       6|12/1/2010 8:28|     1.85|     17850|United Kingdom|2010-12-01 08:28:00|\n",
            "|   536366|    22632|HAND WARMER RED P...|       6|12/1/2010 8:28|     1.85|     17850|United Kingdom|2010-12-01 08:28:00|\n",
            "|   536367|    84879|ASSORTED COLOUR B...|      32|12/1/2010 8:34|     1.69|     13047|United Kingdom|2010-12-01 08:34:00|\n",
            "|   536367|    22745|POPPY'S PLAYHOUSE...|       6|12/1/2010 8:34|      2.1|     13047|United Kingdom|2010-12-01 08:34:00|\n",
            "|   536367|    22748|POPPY'S PLAYHOUSE...|       6|12/1/2010 8:34|      2.1|     13047|United Kingdom|2010-12-01 08:34:00|\n",
            "|   536367|    22749|FELTCRAFT PRINCES...|       8|12/1/2010 8:34|     3.75|     13047|United Kingdom|2010-12-01 08:34:00|\n",
            "|   536367|    22310|IVORY KNITTED MUG...|       6|12/1/2010 8:34|     1.65|     13047|United Kingdom|2010-12-01 08:34:00|\n",
            "|   536367|    84969|BOX OF 6 ASSORTED...|       6|12/1/2010 8:34|     4.25|     13047|United Kingdom|2010-12-01 08:34:00|\n",
            "|   536367|    22623|BOX OF VINTAGE JI...|       3|12/1/2010 8:34|     4.95|     13047|United Kingdom|2010-12-01 08:34:00|\n",
            "|   536367|    22622|BOX OF VINTAGE AL...|       2|12/1/2010 8:34|     9.95|     13047|United Kingdom|2010-12-01 08:34:00|\n",
            "|   536367|    21754|HOME BUILDING BLO...|       3|12/1/2010 8:34|     5.95|     13047|United Kingdom|2010-12-01 08:34:00|\n",
            "|   536367|    21755|LOVE BUILDING BLO...|       3|12/1/2010 8:34|     5.95|     13047|United Kingdom|2010-12-01 08:34:00|\n",
            "|   536367|    21777|RECIPE BOX WITH M...|       4|12/1/2010 8:34|     7.95|     13047|United Kingdom|2010-12-01 08:34:00|\n",
            "+---------+---------+--------------------+--------+--------------+---------+----------+--------------+-------------------+\n",
            "only showing top 20 rows\n",
            "\n",
            "root\n",
            " |-- InvoiceNo: string (nullable = true)\n",
            " |-- StockCode: string (nullable = true)\n",
            " |-- Description: string (nullable = true)\n",
            " |-- Quantity: integer (nullable = true)\n",
            " |-- InvoiceDate: string (nullable = true)\n",
            " |-- UnitPrice: double (nullable = true)\n",
            " |-- CustomerID: integer (nullable = true)\n",
            " |-- Country: string (nullable = true)\n",
            " |-- InvoiceDateTime: timestamp (nullable = true)\n",
            "\n",
            "+---------+---------+--------------------+--------+---------+----------+--------------+-------------------+\n",
            "|InvoiceNo|StockCode|         Description|Quantity|UnitPrice|CustomerID|       Country|    InvoiceDateTime|\n",
            "+---------+---------+--------------------+--------+---------+----------+--------------+-------------------+\n",
            "|   536365|   85123A|WHITE HANGING HEA...|       6|     2.55|     17850|United Kingdom|2010-12-01 08:26:00|\n",
            "|   536365|    71053| WHITE METAL LANTERN|       6|     3.39|     17850|United Kingdom|2010-12-01 08:26:00|\n",
            "|   536365|   84406B|CREAM CUPID HEART...|       8|     2.75|     17850|United Kingdom|2010-12-01 08:26:00|\n",
            "|   536365|   84029G|KNITTED UNION FLA...|       6|     3.39|     17850|United Kingdom|2010-12-01 08:26:00|\n",
            "|   536365|   84029E|RED WOOLLY HOTTIE...|       6|     3.39|     17850|United Kingdom|2010-12-01 08:26:00|\n",
            "|   536365|    22752|SET 7 BABUSHKA NE...|       2|     7.65|     17850|United Kingdom|2010-12-01 08:26:00|\n",
            "|   536365|    21730|GLASS STAR FROSTE...|       6|     4.25|     17850|United Kingdom|2010-12-01 08:26:00|\n",
            "|   536366|    22633|HAND WARMER UNION...|       6|     1.85|     17850|United Kingdom|2010-12-01 08:28:00|\n",
            "|   536366|    22632|HAND WARMER RED P...|       6|     1.85|     17850|United Kingdom|2010-12-01 08:28:00|\n",
            "|   536367|    84879|ASSORTED COLOUR B...|      32|     1.69|     13047|United Kingdom|2010-12-01 08:34:00|\n",
            "|   536367|    22745|POPPY'S PLAYHOUSE...|       6|      2.1|     13047|United Kingdom|2010-12-01 08:34:00|\n",
            "|   536367|    22748|POPPY'S PLAYHOUSE...|       6|      2.1|     13047|United Kingdom|2010-12-01 08:34:00|\n",
            "|   536367|    22749|FELTCRAFT PRINCES...|       8|     3.75|     13047|United Kingdom|2010-12-01 08:34:00|\n",
            "|   536367|    22310|IVORY KNITTED MUG...|       6|     1.65|     13047|United Kingdom|2010-12-01 08:34:00|\n",
            "|   536367|    84969|BOX OF 6 ASSORTED...|       6|     4.25|     13047|United Kingdom|2010-12-01 08:34:00|\n",
            "|   536367|    22623|BOX OF VINTAGE JI...|       3|     4.95|     13047|United Kingdom|2010-12-01 08:34:00|\n",
            "|   536367|    22622|BOX OF VINTAGE AL...|       2|     9.95|     13047|United Kingdom|2010-12-01 08:34:00|\n",
            "|   536367|    21754|HOME BUILDING BLO...|       3|     5.95|     13047|United Kingdom|2010-12-01 08:34:00|\n",
            "|   536367|    21755|LOVE BUILDING BLO...|       3|     5.95|     13047|United Kingdom|2010-12-01 08:34:00|\n",
            "|   536367|    21777|RECIPE BOX WITH M...|       4|     7.95|     13047|United Kingdom|2010-12-01 08:34:00|\n",
            "+---------+---------+--------------------+--------+---------+----------+--------------+-------------------+\n",
            "only showing top 20 rows\n",
            "\n",
            "root\n",
            " |-- InvoiceNo: string (nullable = true)\n",
            " |-- StockCode: string (nullable = true)\n",
            " |-- Description: string (nullable = true)\n",
            " |-- Quantity: integer (nullable = true)\n",
            " |-- UnitPrice: double (nullable = true)\n",
            " |-- CustomerID: integer (nullable = true)\n",
            " |-- Country: string (nullable = true)\n",
            " |-- InvoiceDateTime: timestamp (nullable = true)\n",
            "\n"
          ]
        }
      ]
    },
    {
      "cell_type": "markdown",
      "source": [
        "### Syntacitial Anomalies"
      ],
      "metadata": {
        "id": "U4ZZzsw2jJQL"
      }
    },
    {
      "cell_type": "code",
      "source": [
        "## Data Cleansing with Spark\n",
        "\n",
        "# Syntactical Anomalies ( error syntax )\n",
        "# Lexical errors เช่น พิมพ์ผิด\n",
        "\n",
        "# Check country distinct values. Find something interesting?\n",
        "# ลองมาดูชื่อประเทศกัน เจออะไรบ้าง ?\n",
        "dt_final.select(\"Country\").distinct().show()\n",
        "\n",
        "dt_final.where(dt_final['Country'] == 'EIRE').show()\n",
        "\n",
        "# เปลี่ยน EIRE(ชื่อเก่า) เป็น Ireland\n",
        "from pyspark.sql.functions import when\n",
        "\n",
        "dt_temp_ire = dt_final.withColumn(\"CountryUpdate\", when(dt_final['Country'] == 'EIRE', 'Ireland')\\\n",
        "                                   .otherwise(dt_final['Country']))\n",
        "\n",
        "# Check the result\n",
        "dt_temp_ire.select(\"CountryUpdate\").distinct().show()\n",
        "\n",
        "# Create final Dataframe\n",
        "dt_final_ire = dt_temp_ire.drop(\"Country\").withColumnRenamed('CountryUpdate', 'Country')"
      ],
      "metadata": {
        "colab": {
          "base_uri": "https://localhost:8080/"
        },
        "id": "mSmH2J_8eDC1",
        "outputId": "056b9713-8e5c-4113-9090-fab18c64d1f3"
      },
      "execution_count": null,
      "outputs": [
        {
          "output_type": "stream",
          "name": "stdout",
          "text": [
            "+------------------+\n",
            "|           Country|\n",
            "+------------------+\n",
            "|            Sweden|\n",
            "|         Singapore|\n",
            "|           Germany|\n",
            "|            France|\n",
            "|            Greece|\n",
            "|European Community|\n",
            "|           Belgium|\n",
            "|           Finland|\n",
            "|             Malta|\n",
            "|       Unspecified|\n",
            "|             Italy|\n",
            "|              EIRE|\n",
            "|         Lithuania|\n",
            "|            Norway|\n",
            "|             Spain|\n",
            "|           Denmark|\n",
            "|         Hong Kong|\n",
            "|           Iceland|\n",
            "|            Israel|\n",
            "|   Channel Islands|\n",
            "+------------------+\n",
            "only showing top 20 rows\n",
            "\n",
            "+---------+---------+--------------------+--------+---------+----------+-------+-------------------+\n",
            "|InvoiceNo|StockCode|         Description|Quantity|UnitPrice|CustomerID|Country|    InvoiceDateTime|\n",
            "+---------+---------+--------------------+--------+---------+----------+-------+-------------------+\n",
            "|   536540|    22968|ROSE COTTAGE KEEP...|       4|     9.95|     14911|   EIRE|2010-12-01 14:05:00|\n",
            "|   536540|   85071A|BLUE CHARLIE+LOLA...|       6|     2.95|     14911|   EIRE|2010-12-01 14:05:00|\n",
            "|   536540|   85071C|\"CHARLIE+LOLA\"\"EX...|       6|     2.55|     14911|   EIRE|2010-12-01 14:05:00|\n",
            "|   536540|    22355|CHARLOTTE BAG SUK...|      50|     0.85|     14911|   EIRE|2010-12-01 14:05:00|\n",
            "|   536540|    21579|LOLITA  DESIGN  C...|       6|     2.25|     14911|   EIRE|2010-12-01 14:05:00|\n",
            "|   536540|    21576|LETS GO SHOPPING ...|       6|     2.25|     14911|   EIRE|2010-12-01 14:05:00|\n",
            "|   536540|    22147|FELTCRAFT BUTTERF...|      12|     1.45|     14911|   EIRE|2010-12-01 14:05:00|\n",
            "|   536540|    22150|3 STRIPEY MICE FE...|      12|     1.95|     14911|   EIRE|2010-12-01 14:05:00|\n",
            "|   536540|    22492|MINI PAINT SET VI...|      36|     0.65|     14911|   EIRE|2010-12-01 14:05:00|\n",
            "|   536540|    22493|PAINT YOUR OWN CA...|      24|     1.65|     14911|   EIRE|2010-12-01 14:05:00|\n",
            "|   536540|    21833|CAMOUFLAGE LED TORCH|      12|     1.69|     14911|   EIRE|2010-12-01 14:05:00|\n",
            "|   536540|   85135B|BLUE DRAGONFLY HE...|       2|     7.95|     14911|   EIRE|2010-12-01 14:05:00|\n",
            "|   536540|   85136A|YELLOW SHARK HELI...|       2|     7.95|     14911|   EIRE|2010-12-01 14:05:00|\n",
            "|   536540|   85136C|RED SHARK HELICOPTER|       2|     7.95|     14911|   EIRE|2010-12-01 14:05:00|\n",
            "|   536540|    21055|  TOOL BOX SOFT TOY |       4|     8.95|     14911|   EIRE|2010-12-01 14:05:00|\n",
            "|   536540|    21056|DOCTOR'S BAG SOFT...|       4|     8.95|     14911|   EIRE|2010-12-01 14:05:00|\n",
            "|   536540|    21889|WOODEN BOX OF DOM...|      24|     1.25|     14911|   EIRE|2010-12-01 14:05:00|\n",
            "|   536540|    21891|TRADITIONAL WOODE...|      12|     1.25|     14911|   EIRE|2010-12-01 14:05:00|\n",
            "|   536540|    22622|BOX OF VINTAGE AL...|       6|     9.95|     14911|   EIRE|2010-12-01 14:05:00|\n",
            "|   536540|       C2|            CARRIAGE|       1|     50.0|     14911|   EIRE|2010-12-01 14:05:00|\n",
            "+---------+---------+--------------------+--------+---------+----------+-------+-------------------+\n",
            "only showing top 20 rows\n",
            "\n",
            "+------------------+\n",
            "|     CountryUpdate|\n",
            "+------------------+\n",
            "|            Sweden|\n",
            "|         Singapore|\n",
            "|           Germany|\n",
            "|            France|\n",
            "|            Greece|\n",
            "|European Community|\n",
            "|           Belgium|\n",
            "|           Finland|\n",
            "|             Malta|\n",
            "|       Unspecified|\n",
            "|             Italy|\n",
            "|         Lithuania|\n",
            "|            Norway|\n",
            "|             Spain|\n",
            "|           Denmark|\n",
            "|           Ireland|\n",
            "|         Hong Kong|\n",
            "|           Iceland|\n",
            "|            Israel|\n",
            "|   Channel Islands|\n",
            "+------------------+\n",
            "only showing top 20 rows\n",
            "\n"
          ]
        }
      ]
    },
    {
      "cell_type": "markdown",
      "source": [
        "### Semantic Anomalies"
      ],
      "metadata": {
        "id": "Kv0ulN8BuuFc"
      }
    },
    {
      "cell_type": "code",
      "source": [
        "# Semantic Anomalies\n",
        "# Integrity constraints: ค่าอยู่นอกเหนือขอบเขตของค่าที่รับได้ เช่น Stockcode: ค่าจะต้องเป็นตัวเลข 5 ตัว\n",
        "\n",
        "dt_final_ire.select(\"Stockcode\").show()\n",
        "dt_final_ire.count()\n",
        "\n",
        "# filter เลือกข้อมูลตามเงื่อนไข | rlike = like | ^[0-9] เลข 0-9  {5} จำนวน 5 ตัว  $ จบห้ามมีอะไรอยู่ข้างหลัง\n",
        "dt_final_ire.filter(dt_final_ire[\"Stockcode\"].rlike(\"^[0-9]{5}$\")).count()\n",
        "\n",
        "# ลองดูข้อมูลที่ถูกต้อง\n",
        "dt_final_ire.filter(dt_final_ire[\"Stockcode\"].rlike(\"^[0-9]{5}$\")).show(5)"
      ],
      "metadata": {
        "colab": {
          "base_uri": "https://localhost:8080/"
        },
        "id": "ZLiWy6Ftuxpk",
        "outputId": "bc1c696c-b6f5-4990-eb9b-c1452cfa2a68"
      },
      "execution_count": null,
      "outputs": [
        {
          "output_type": "stream",
          "name": "stdout",
          "text": [
            "+---------+\n",
            "|Stockcode|\n",
            "+---------+\n",
            "|   85123A|\n",
            "|    71053|\n",
            "|   84406B|\n",
            "|   84029G|\n",
            "|   84029E|\n",
            "|    22752|\n",
            "|    21730|\n",
            "|    22633|\n",
            "|    22632|\n",
            "|    84879|\n",
            "|    22745|\n",
            "|    22748|\n",
            "|    22749|\n",
            "|    22310|\n",
            "|    84969|\n",
            "|    22623|\n",
            "|    22622|\n",
            "|    21754|\n",
            "|    21755|\n",
            "|    21777|\n",
            "+---------+\n",
            "only showing top 20 rows\n",
            "\n",
            "+---------+---------+--------------------+--------+---------+----------+-------------------+--------------+\n",
            "|InvoiceNo|StockCode|         Description|Quantity|UnitPrice|CustomerID|    InvoiceDateTime|       Country|\n",
            "+---------+---------+--------------------+--------+---------+----------+-------------------+--------------+\n",
            "|   536365|    71053| WHITE METAL LANTERN|       6|     3.39|     17850|2010-12-01 08:26:00|United Kingdom|\n",
            "|   536365|    22752|SET 7 BABUSHKA NE...|       2|     7.65|     17850|2010-12-01 08:26:00|United Kingdom|\n",
            "|   536365|    21730|GLASS STAR FROSTE...|       6|     4.25|     17850|2010-12-01 08:26:00|United Kingdom|\n",
            "|   536366|    22633|HAND WARMER UNION...|       6|     1.85|     17850|2010-12-01 08:28:00|United Kingdom|\n",
            "|   536366|    22632|HAND WARMER RED P...|       6|     1.85|     17850|2010-12-01 08:28:00|United Kingdom|\n",
            "+---------+---------+--------------------+--------+---------+----------+-------------------+--------------+\n",
            "only showing top 5 rows\n",
            "\n"
          ]
        }
      ]
    },
    {
      "cell_type": "code",
      "source": [
        "# ลองดูข้อมูลที่ไม่ถูกต้อง\n",
        "dt_correct_stockcode = dt_final_ire.filter(dt_final_ire[\"Stockcode\"].rlike(\"^[0-9]{5}$\"))\n",
        "dt_incorrect_stockcode = dt_final_ire.subtract(dt_correct_stockcode)\n",
        "# .subtract = ข้อมูล dt_final_ire [ทั้งหมด] - ข้อมูล dt_correct_stockcode [ถูกต้อง]\n",
        "dt_incorrect_stockcode.show(10)\n",
        "\n",
        "# ลบตัวอักษรตัวสุดท้ายออกจาก stock code\n",
        "from pyspark.sql.functions import regexp_replace\n",
        "# regexp_replace = search และ ลบทิ้งตาม pattern ที่เลือกมา\n",
        "dt_temp_stockcode = dt_final_ire.withColumn(\"StockcodeUpdate\", regexp_replace(dt_final_ire['Stockcode'], r'[A-Z]', ''))\n",
        "                                                                               # เสิร์จ r'[A-Z]' และ replace ''\n",
        "                                                                               # Check the result\n",
        "dt_temp_stockcode.show()\n",
        "\n",
        "# Create final Dataframe\n",
        "dt_final_stockcode = dt_temp_stockcode.drop(\"Stockcode\").withColumnRenamed('StockcodeUpdate', 'StockCode')\n"
      ],
      "metadata": {
        "colab": {
          "base_uri": "https://localhost:8080/"
        },
        "id": "dSNsUK6ixgMX",
        "outputId": "1f9f84e7-aadf-4bad-b6e1-cbb4b2d33af6"
      },
      "execution_count": null,
      "outputs": [
        {
          "output_type": "stream",
          "name": "stdout",
          "text": [
            "+---------+---------+--------------------+--------+---------+----------+-------------------+--------------+\n",
            "|InvoiceNo|StockCode|         Description|Quantity|UnitPrice|CustomerID|    InvoiceDateTime|       Country|\n",
            "+---------+---------+--------------------+--------+---------+----------+-------------------+--------------+\n",
            "|   536592|   85114B|IVORY ENCHANTED F...|       1|     3.36|      null|2010-12-01 17:06:00|United Kingdom|\n",
            "|   536864|   84970s|HANGING HEART ZIN...|       1|     2.13|      null|2010-12-03 11:27:00|United Kingdom|\n",
            "|   537210|   72802B|OCEAN SCENT CANDL...|       3|     4.25|     15953|2010-12-05 15:15:00|United Kingdom|\n",
            "|   537237|   84459B|YELLOW METAL CHIC...|       1|     3.36|      null|2010-12-06 09:58:00|United Kingdom|\n",
            "|   537393|   85014A|BLACK/BLUE POLKAD...|       6|     5.95|     13089|2010-12-06 13:59:00|United Kingdom|\n",
            "|   538071|   84536A|ENGLISH ROSE NOTE...|       2|     0.85|      null|2010-12-09 14:09:00|United Kingdom|\n",
            "|   538145|   85032A|ROMANTIC IMAGES G...|       6|      2.1|     15211|2010-12-09 16:08:00|United Kingdom|\n",
            "|   538177|      DOT|      DOTCOM POSTAGE|       1|   847.42|      null|2010-12-10 09:51:00|United Kingdom|\n",
            "|   538255|   17012D|ORIGAMI ROSE INCE...|       6|     2.55|     14911|2010-12-10 12:33:00|       Ireland|\n",
            "|   538662|   84519A|TOMATO CHARLIE+LO...|      24|     1.25|     15159|2010-12-13 15:44:00|United Kingdom|\n",
            "+---------+---------+--------------------+--------+---------+----------+-------------------+--------------+\n",
            "only showing top 10 rows\n",
            "\n",
            "+---------+---------+--------------------+--------+---------+----------+-------------------+--------------+---------------+\n",
            "|InvoiceNo|StockCode|         Description|Quantity|UnitPrice|CustomerID|    InvoiceDateTime|       Country|StockcodeUpdate|\n",
            "+---------+---------+--------------------+--------+---------+----------+-------------------+--------------+---------------+\n",
            "|   536365|   85123A|WHITE HANGING HEA...|       6|     2.55|     17850|2010-12-01 08:26:00|United Kingdom|          85123|\n",
            "|   536365|    71053| WHITE METAL LANTERN|       6|     3.39|     17850|2010-12-01 08:26:00|United Kingdom|          71053|\n",
            "|   536365|   84406B|CREAM CUPID HEART...|       8|     2.75|     17850|2010-12-01 08:26:00|United Kingdom|          84406|\n",
            "|   536365|   84029G|KNITTED UNION FLA...|       6|     3.39|     17850|2010-12-01 08:26:00|United Kingdom|          84029|\n",
            "|   536365|   84029E|RED WOOLLY HOTTIE...|       6|     3.39|     17850|2010-12-01 08:26:00|United Kingdom|          84029|\n",
            "|   536365|    22752|SET 7 BABUSHKA NE...|       2|     7.65|     17850|2010-12-01 08:26:00|United Kingdom|          22752|\n",
            "|   536365|    21730|GLASS STAR FROSTE...|       6|     4.25|     17850|2010-12-01 08:26:00|United Kingdom|          21730|\n",
            "|   536366|    22633|HAND WARMER UNION...|       6|     1.85|     17850|2010-12-01 08:28:00|United Kingdom|          22633|\n",
            "|   536366|    22632|HAND WARMER RED P...|       6|     1.85|     17850|2010-12-01 08:28:00|United Kingdom|          22632|\n",
            "|   536367|    84879|ASSORTED COLOUR B...|      32|     1.69|     13047|2010-12-01 08:34:00|United Kingdom|          84879|\n",
            "|   536367|    22745|POPPY'S PLAYHOUSE...|       6|      2.1|     13047|2010-12-01 08:34:00|United Kingdom|          22745|\n",
            "|   536367|    22748|POPPY'S PLAYHOUSE...|       6|      2.1|     13047|2010-12-01 08:34:00|United Kingdom|          22748|\n",
            "|   536367|    22749|FELTCRAFT PRINCES...|       8|     3.75|     13047|2010-12-01 08:34:00|United Kingdom|          22749|\n",
            "|   536367|    22310|IVORY KNITTED MUG...|       6|     1.65|     13047|2010-12-01 08:34:00|United Kingdom|          22310|\n",
            "|   536367|    84969|BOX OF 6 ASSORTED...|       6|     4.25|     13047|2010-12-01 08:34:00|United Kingdom|          84969|\n",
            "|   536367|    22623|BOX OF VINTAGE JI...|       3|     4.95|     13047|2010-12-01 08:34:00|United Kingdom|          22623|\n",
            "|   536367|    22622|BOX OF VINTAGE AL...|       2|     9.95|     13047|2010-12-01 08:34:00|United Kingdom|          22622|\n",
            "|   536367|    21754|HOME BUILDING BLO...|       3|     5.95|     13047|2010-12-01 08:34:00|United Kingdom|          21754|\n",
            "|   536367|    21755|LOVE BUILDING BLO...|       3|     5.95|     13047|2010-12-01 08:34:00|United Kingdom|          21755|\n",
            "|   536367|    21777|RECIPE BOX WITH M...|       4|     7.95|     13047|2010-12-01 08:34:00|United Kingdom|          21777|\n",
            "+---------+---------+--------------------+--------+---------+----------+-------------------+--------------+---------------+\n",
            "only showing top 20 rows\n",
            "\n"
          ]
        }
      ]
    },
    {
      "cell_type": "markdown",
      "source": [
        "### Missing values"
      ],
      "metadata": {
        "id": "T2BjvxoXzkZD"
      }
    },
    {
      "cell_type": "code",
      "source": [
        "# Missing values\n",
        "# Check จำนวน missing values ในแต่ละ column\n",
        "from pyspark.sql.functions import col,sum\n",
        "\n",
        "dt_final_stockcode.select(*[sum(col(c).isNull().cast(\"int\")).alias(c) for c in dt_final_stockcode.columns]).show()\n",
        "                        # อ่านขวา - ซ้าย  | for c in dt_final_stockcode.columns = ในแต่ละคอลัม ให้ตั้งชื่อว่า C >> loop ที่ละตัว\n",
        "                        # sum(col(c).isNull().cast(\"int\") | หาผลรวม \n",
        "                        # col(c) = เลือก col c | isNull() = นับว่า null มีกี่ค่า | cast(\"int\") = แปลงเป็น int | .alias(c) = ตั้งชื่อ col ตาม c\n",
        "                        \n",
        "# Check ว่ามีแถวไหนที่ description เป็น null บ้าง\n",
        "dt_final_stockcode.where( dt_final_stockcode['Description'].isNull() ).show()\n",
        "\n",
        "# Check ว่ามีแถวไหนที่ customerID เป็น null บ้าง\n",
        "dt_final_stockcode.where( dt_final_stockcode['customerID'].isNull() ).show()"
      ],
      "metadata": {
        "colab": {
          "base_uri": "https://localhost:8080/"
        },
        "id": "4CbdYTzVzqe5",
        "outputId": "9ab6f36e-4996-465c-e3a9-0ecad0f07fef"
      },
      "execution_count": null,
      "outputs": [
        {
          "output_type": "stream",
          "name": "stdout",
          "text": [
            "+---------+-----------+--------+---------+----------+---------------+-------+---------+\n",
            "|InvoiceNo|Description|Quantity|UnitPrice|CustomerID|InvoiceDateTime|Country|StockCode|\n",
            "+---------+-----------+--------+---------+----------+---------------+-------+---------+\n",
            "|        0|       1454|       0|        0|    135080|              0|      0|        0|\n",
            "+---------+-----------+--------+---------+----------+---------------+-------+---------+\n",
            "\n",
            "+---------+-----------+--------+---------+----------+-------------------+--------------+---------+\n",
            "|InvoiceNo|Description|Quantity|UnitPrice|CustomerID|    InvoiceDateTime|       Country|StockCode|\n",
            "+---------+-----------+--------+---------+----------+-------------------+--------------+---------+\n",
            "|   536414|       null|      56|      0.0|      null|2010-12-01 11:52:00|United Kingdom|    22139|\n",
            "|   536545|       null|       1|      0.0|      null|2010-12-01 14:32:00|United Kingdom|    21134|\n",
            "|   536546|       null|       1|      0.0|      null|2010-12-01 14:33:00|United Kingdom|    22145|\n",
            "|   536547|       null|       1|      0.0|      null|2010-12-01 14:33:00|United Kingdom|    37509|\n",
            "|   536549|       null|       1|      0.0|      null|2010-12-01 14:34:00|United Kingdom|    85226|\n",
            "|   536550|       null|       1|      0.0|      null|2010-12-01 14:34:00|United Kingdom|    85044|\n",
            "|   536552|       null|       1|      0.0|      null|2010-12-01 14:34:00|United Kingdom|    20950|\n",
            "|   536553|       null|       3|      0.0|      null|2010-12-01 14:35:00|United Kingdom|    37461|\n",
            "|   536554|       null|      23|      0.0|      null|2010-12-01 14:35:00|United Kingdom|    84670|\n",
            "|   536589|       null|     -10|      0.0|      null|2010-12-01 16:50:00|United Kingdom|    21777|\n",
            "|   536764|       null|     -38|      0.0|      null|2010-12-02 14:42:00|United Kingdom|    84952|\n",
            "|   536765|       null|      19|      0.0|      null|2010-12-02 14:43:00|United Kingdom|    84952|\n",
            "|   536995|       null|      57|      0.0|      null|2010-12-03 15:29:00|United Kingdom|    35951|\n",
            "|   536996|       null|     -20|      0.0|      null|2010-12-03 15:30:00|United Kingdom|    22712|\n",
            "|   536997|       null|     -20|      0.0|      null|2010-12-03 15:30:00|United Kingdom|    22028|\n",
            "|   536998|       null|      -6|      0.0|      null|2010-12-03 15:30:00|United Kingdom|    85067|\n",
            "|   536999|       null|     110|      0.0|      null|2010-12-03 15:32:00|United Kingdom|    21421|\n",
            "|   537000|       null|     -22|      0.0|      null|2010-12-03 15:32:00|United Kingdom|    21414|\n",
            "|   537001|       null|      -6|      0.0|      null|2010-12-03 15:33:00|United Kingdom|    21653|\n",
            "|   537002|       null|      70|      0.0|      null|2010-12-03 15:33:00|United Kingdom|    21651|\n",
            "+---------+-----------+--------+---------+----------+-------------------+--------------+---------+\n",
            "only showing top 20 rows\n",
            "\n",
            "+---------+--------------------+--------+---------+----------+-------------------+--------------+---------+\n",
            "|InvoiceNo|         Description|Quantity|UnitPrice|CustomerID|    InvoiceDateTime|       Country|StockCode|\n",
            "+---------+--------------------+--------+---------+----------+-------------------+--------------+---------+\n",
            "|   536414|                null|      56|      0.0|      null|2010-12-01 11:52:00|United Kingdom|    22139|\n",
            "|   536544|DECORATIVE ROSE B...|       1|     2.51|      null|2010-12-01 14:32:00|United Kingdom|    21773|\n",
            "|   536544|DECORATIVE CATS B...|       2|     2.51|      null|2010-12-01 14:32:00|United Kingdom|    21774|\n",
            "|   536544|  POLKADOT RAIN HAT |       4|     0.85|      null|2010-12-01 14:32:00|United Kingdom|    21786|\n",
            "|   536544|RAIN PONCHO RETRO...|       2|     1.66|      null|2010-12-01 14:32:00|United Kingdom|    21787|\n",
            "|   536544|  VINTAGE SNAP CARDS|       9|     1.66|      null|2010-12-01 14:32:00|United Kingdom|    21790|\n",
            "|   536544|VINTAGE HEADS AND...|       2|     2.51|      null|2010-12-01 14:32:00|United Kingdom|    21791|\n",
            "|   536544|CHRISTMAS TREE DE...|      10|     0.43|      null|2010-12-01 14:32:00|United Kingdom|    21801|\n",
            "|   536544|CHRISTMAS TREE HE...|       9|     0.43|      null|2010-12-01 14:32:00|United Kingdom|    21802|\n",
            "|   536544|CHRISTMAS TREE ST...|      11|     0.43|      null|2010-12-01 14:32:00|United Kingdom|    21803|\n",
            "|   536544|CHRISTMAS HANGING...|       1|     2.51|      null|2010-12-01 14:32:00|United Kingdom|    21809|\n",
            "|   536544|CHRISTMAS HANGING...|       3|     2.51|      null|2010-12-01 14:32:00|United Kingdom|    21810|\n",
            "|   536544|CHRISTMAS HANGING...|       1|     2.51|      null|2010-12-01 14:32:00|United Kingdom|    21811|\n",
            "|   536544|GLITTER STAR GARL...|       1|     7.62|      null|2010-12-01 14:32:00|United Kingdom|    21821|\n",
            "|   536544|GLITTER CHRISTMAS...|       1|     4.21|      null|2010-12-01 14:32:00|United Kingdom|    21822|\n",
            "|   536544|PAINTED METAL HEA...|       2|     2.98|      null|2010-12-01 14:32:00|United Kingdom|    21823|\n",
            "|   536544|   RED RETROSPOT MUG|       2|     5.91|      null|2010-12-01 14:32:00|United Kingdom|    21844|\n",
            "|   536544|LILAC DIAMANTE PE...|       1|     4.21|      null|2010-12-01 14:32:00|United Kingdom|    21851|\n",
            "|   536544|I CAN ONLY PLEASE...|       1|     3.36|      null|2010-12-01 14:32:00|United Kingdom|    21870|\n",
            "|   536544| SAVE THE PLANET MUG|       5|     3.36|      null|2010-12-01 14:32:00|United Kingdom|    21871|\n",
            "+---------+--------------------+--------+---------+----------+-------------------+--------------+---------+\n",
            "only showing top 20 rows\n",
            "\n"
          ]
        }
      ]
    },
    {
      "cell_type": "code",
      "source": [
        "# แทน Customer ID ที่เป็น NULL ด้วย -1\n",
        "\n",
        "dt_notnull = dt_final_stockcode.withColumn(\"customerID_notnull\", when(dt_final_stockcode['customerID'].isNull() , '-1').otherwise(dt_final_stockcode['customerID']))\n",
        "dt_notnull.show()"
      ],
      "metadata": {
        "colab": {
          "base_uri": "https://localhost:8080/"
        },
        "id": "cMNZb-i028Z8",
        "outputId": "7e3a4df4-a04a-4b32-bb62-d141e0b09b43"
      },
      "execution_count": null,
      "outputs": [
        {
          "output_type": "stream",
          "name": "stdout",
          "text": [
            "+---------+--------------------+--------+---------+----------+-------------------+--------------+---------+------------------+\n",
            "|InvoiceNo|         Description|Quantity|UnitPrice|CustomerID|    InvoiceDateTime|       Country|StockCode|customerID_notnull|\n",
            "+---------+--------------------+--------+---------+----------+-------------------+--------------+---------+------------------+\n",
            "|   536365|WHITE HANGING HEA...|       6|     2.55|     17850|2010-12-01 08:26:00|United Kingdom|    85123|             17850|\n",
            "|   536365| WHITE METAL LANTERN|       6|     3.39|     17850|2010-12-01 08:26:00|United Kingdom|    71053|             17850|\n",
            "|   536365|CREAM CUPID HEART...|       8|     2.75|     17850|2010-12-01 08:26:00|United Kingdom|    84406|             17850|\n",
            "|   536365|KNITTED UNION FLA...|       6|     3.39|     17850|2010-12-01 08:26:00|United Kingdom|    84029|             17850|\n",
            "|   536365|RED WOOLLY HOTTIE...|       6|     3.39|     17850|2010-12-01 08:26:00|United Kingdom|    84029|             17850|\n",
            "|   536365|SET 7 BABUSHKA NE...|       2|     7.65|     17850|2010-12-01 08:26:00|United Kingdom|    22752|             17850|\n",
            "|   536365|GLASS STAR FROSTE...|       6|     4.25|     17850|2010-12-01 08:26:00|United Kingdom|    21730|             17850|\n",
            "|   536366|HAND WARMER UNION...|       6|     1.85|     17850|2010-12-01 08:28:00|United Kingdom|    22633|             17850|\n",
            "|   536366|HAND WARMER RED P...|       6|     1.85|     17850|2010-12-01 08:28:00|United Kingdom|    22632|             17850|\n",
            "|   536367|ASSORTED COLOUR B...|      32|     1.69|     13047|2010-12-01 08:34:00|United Kingdom|    84879|             13047|\n",
            "|   536367|POPPY'S PLAYHOUSE...|       6|      2.1|     13047|2010-12-01 08:34:00|United Kingdom|    22745|             13047|\n",
            "|   536367|POPPY'S PLAYHOUSE...|       6|      2.1|     13047|2010-12-01 08:34:00|United Kingdom|    22748|             13047|\n",
            "|   536367|FELTCRAFT PRINCES...|       8|     3.75|     13047|2010-12-01 08:34:00|United Kingdom|    22749|             13047|\n",
            "|   536367|IVORY KNITTED MUG...|       6|     1.65|     13047|2010-12-01 08:34:00|United Kingdom|    22310|             13047|\n",
            "|   536367|BOX OF 6 ASSORTED...|       6|     4.25|     13047|2010-12-01 08:34:00|United Kingdom|    84969|             13047|\n",
            "|   536367|BOX OF VINTAGE JI...|       3|     4.95|     13047|2010-12-01 08:34:00|United Kingdom|    22623|             13047|\n",
            "|   536367|BOX OF VINTAGE AL...|       2|     9.95|     13047|2010-12-01 08:34:00|United Kingdom|    22622|             13047|\n",
            "|   536367|HOME BUILDING BLO...|       3|     5.95|     13047|2010-12-01 08:34:00|United Kingdom|    21754|             13047|\n",
            "|   536367|LOVE BUILDING BLO...|       3|     5.95|     13047|2010-12-01 08:34:00|United Kingdom|    21755|             13047|\n",
            "|   536367|RECIPE BOX WITH M...|       4|     7.95|     13047|2010-12-01 08:34:00|United Kingdom|    21777|             13047|\n",
            "+---------+--------------------+--------+---------+----------+-------------------+--------------+---------+------------------+\n",
            "only showing top 20 rows\n",
            "\n"
          ]
        }
      ]
    },
    {
      "cell_type": "markdown",
      "source": [
        "### Clean with SQL"
      ],
      "metadata": {
        "id": "Ztj9F90JMNaO"
      }
    },
    {
      "cell_type": "code",
      "source": [
        "# Clean ข้อมูลด้วย Spark SQL\n",
        "dt_final_stockcode.createOrReplaceTempView(\"sales\")  # สร้าง tempview ก่อน\n",
        "dt_sql = spark.sql(\"SELECT * FROM sales\")\n",
        "dt_sql.show()"
      ],
      "metadata": {
        "colab": {
          "base_uri": "https://localhost:8080/"
        },
        "id": "I6qnmB0LMQfY",
        "outputId": "31c1e2ca-7f7e-443e-ccce-624ad7e9ba6b"
      },
      "execution_count": null,
      "outputs": [
        {
          "output_type": "stream",
          "name": "stdout",
          "text": [
            "+---------+--------------------+--------+---------+----------+-------------------+--------------+---------+\n",
            "|InvoiceNo|         Description|Quantity|UnitPrice|CustomerID|    InvoiceDateTime|       Country|StockCode|\n",
            "+---------+--------------------+--------+---------+----------+-------------------+--------------+---------+\n",
            "|   536365|WHITE HANGING HEA...|       6|     2.55|     17850|2010-12-01 08:26:00|United Kingdom|    85123|\n",
            "|   536365| WHITE METAL LANTERN|       6|     3.39|     17850|2010-12-01 08:26:00|United Kingdom|    71053|\n",
            "|   536365|CREAM CUPID HEART...|       8|     2.75|     17850|2010-12-01 08:26:00|United Kingdom|    84406|\n",
            "|   536365|KNITTED UNION FLA...|       6|     3.39|     17850|2010-12-01 08:26:00|United Kingdom|    84029|\n",
            "|   536365|RED WOOLLY HOTTIE...|       6|     3.39|     17850|2010-12-01 08:26:00|United Kingdom|    84029|\n",
            "|   536365|SET 7 BABUSHKA NE...|       2|     7.65|     17850|2010-12-01 08:26:00|United Kingdom|    22752|\n",
            "|   536365|GLASS STAR FROSTE...|       6|     4.25|     17850|2010-12-01 08:26:00|United Kingdom|    21730|\n",
            "|   536366|HAND WARMER UNION...|       6|     1.85|     17850|2010-12-01 08:28:00|United Kingdom|    22633|\n",
            "|   536366|HAND WARMER RED P...|       6|     1.85|     17850|2010-12-01 08:28:00|United Kingdom|    22632|\n",
            "|   536367|ASSORTED COLOUR B...|      32|     1.69|     13047|2010-12-01 08:34:00|United Kingdom|    84879|\n",
            "|   536367|POPPY'S PLAYHOUSE...|       6|      2.1|     13047|2010-12-01 08:34:00|United Kingdom|    22745|\n",
            "|   536367|POPPY'S PLAYHOUSE...|       6|      2.1|     13047|2010-12-01 08:34:00|United Kingdom|    22748|\n",
            "|   536367|FELTCRAFT PRINCES...|       8|     3.75|     13047|2010-12-01 08:34:00|United Kingdom|    22749|\n",
            "|   536367|IVORY KNITTED MUG...|       6|     1.65|     13047|2010-12-01 08:34:00|United Kingdom|    22310|\n",
            "|   536367|BOX OF 6 ASSORTED...|       6|     4.25|     13047|2010-12-01 08:34:00|United Kingdom|    84969|\n",
            "|   536367|BOX OF VINTAGE JI...|       3|     4.95|     13047|2010-12-01 08:34:00|United Kingdom|    22623|\n",
            "|   536367|BOX OF VINTAGE AL...|       2|     9.95|     13047|2010-12-01 08:34:00|United Kingdom|    22622|\n",
            "|   536367|HOME BUILDING BLO...|       3|     5.95|     13047|2010-12-01 08:34:00|United Kingdom|    21754|\n",
            "|   536367|LOVE BUILDING BLO...|       3|     5.95|     13047|2010-12-01 08:34:00|United Kingdom|    21755|\n",
            "|   536367|RECIPE BOX WITH M...|       4|     7.95|     13047|2010-12-01 08:34:00|United Kingdom|    21777|\n",
            "+---------+--------------------+--------+---------+----------+-------------------+--------------+---------+\n",
            "only showing top 20 rows\n",
            "\n"
          ]
        }
      ]
    },
    {
      "cell_type": "code",
      "source": [
        "dt_sql_count = spark.sql(\"SELECT count(*) as cnt_row FROM sales\")\n",
        "dt_sql_count.show(5)\n",
        "\n",
        "dt_sql_count = spark.sql(\"SELECT count(*) as cnt_row, country FROM sales GROUP BY Country ORDER BY cnt_row DESC\")\n",
        "dt_sql_count.show(5)\n",
        "\n",
        "dt_sql_valid_price = spark.sql(\"SELECT count(*) as cnt_row FROM sales WHERE UnitPrice > 0 AND Quantity > 0\")\n",
        "dt_sql_valid_price.show(5)\n",
        "\n",
        "dt_sql_valid_price = spark.sql(\"SELECT * FROM sales WHERE UnitPrice > 0 AND Quantity > 0\")\n",
        "dt_sql_valid_price.show(5)\n",
        "\n",
        "# Country USA ที่มี InvoiceDateTime ตั้งแต่วันที่ 2010-12-01 เป็นต้นไป และ UnitPrice เกิน 3.5\n",
        "dt_sql_usa = spark.sql(\"\"\"\n",
        "SELECT * FROM sales\n",
        "  WHERE InvoiceDateTime >= '2010-12-01'\n",
        "  AND UnitPrice > 3.5\n",
        "  AND Country='USA'\n",
        "\"\"\").show()\n",
        "\n",
        "# Country France ที่มี InvoiceDateTime ตังแต่วันที่ 2010-12-05 เป็นต้นไป และ UnitPrice เกิน 5.5 และ Description มีคำว่า Box\n",
        "dt_sql_france = spark.sql(\"\"\"\n",
        "SELECT * FROM sales\n",
        "  WHERE UnitPrice > 5.5\n",
        "  AND InvoiceDateTime >= '2010-12-05'\n",
        "  AND Country = 'France'\n",
        "  AND LOWER(Description) LIKE '%box%'\n",
        "\"\"\").show()"
      ],
      "metadata": {
        "colab": {
          "base_uri": "https://localhost:8080/"
        },
        "id": "iyPVdiSsNONg",
        "outputId": "a83c7196-44ab-4ed5-a7aa-39adfc8e9c41"
      },
      "execution_count": null,
      "outputs": [
        {
          "output_type": "stream",
          "name": "stdout",
          "text": [
            "+-------+\n",
            "|cnt_row|\n",
            "+-------+\n",
            "| 541909|\n",
            "+-------+\n",
            "\n",
            "+-------+--------------+\n",
            "|cnt_row|       country|\n",
            "+-------+--------------+\n",
            "| 495478|United Kingdom|\n",
            "|   9495|       Germany|\n",
            "|   8557|        France|\n",
            "|   8196|       Ireland|\n",
            "|   2533|         Spain|\n",
            "+-------+--------------+\n",
            "only showing top 5 rows\n",
            "\n",
            "+-------+\n",
            "|cnt_row|\n",
            "+-------+\n",
            "| 530104|\n",
            "+-------+\n",
            "\n",
            "+---------+--------------------+--------+---------+----------+-------------------+--------------+---------+\n",
            "|InvoiceNo|         Description|Quantity|UnitPrice|CustomerID|    InvoiceDateTime|       Country|StockCode|\n",
            "+---------+--------------------+--------+---------+----------+-------------------+--------------+---------+\n",
            "|   536365|WHITE HANGING HEA...|       6|     2.55|     17850|2010-12-01 08:26:00|United Kingdom|    85123|\n",
            "|   536365| WHITE METAL LANTERN|       6|     3.39|     17850|2010-12-01 08:26:00|United Kingdom|    71053|\n",
            "|   536365|CREAM CUPID HEART...|       8|     2.75|     17850|2010-12-01 08:26:00|United Kingdom|    84406|\n",
            "|   536365|KNITTED UNION FLA...|       6|     3.39|     17850|2010-12-01 08:26:00|United Kingdom|    84029|\n",
            "|   536365|RED WOOLLY HOTTIE...|       6|     3.39|     17850|2010-12-01 08:26:00|United Kingdom|    84029|\n",
            "+---------+--------------------+--------+---------+----------+-------------------+--------------+---------+\n",
            "only showing top 5 rows\n",
            "\n",
            "+---------+--------------------+--------+---------+----------+-------------------+-------+---------+\n",
            "|InvoiceNo|         Description|Quantity|UnitPrice|CustomerID|    InvoiceDateTime|Country|StockCode|\n",
            "+---------+--------------------+--------+---------+----------+-------------------+-------+---------+\n",
            "|   550644|SET OF 6 SPICE TI...|       7|     3.95|     12733|2011-04-19 16:19:00|    USA|    22722|\n",
            "|   550644|SET OF 3 CAKE TIN...|       1|     4.95|     12733|2011-04-19 16:19:00|    USA|    22720|\n",
            "|   550644|PINK HAPPY BIRTHD...|       4|     5.45|     12733|2011-04-19 16:19:00|    USA|    47590|\n",
            "|   550644|COTTON APRON PANT...|       5|     4.95|     12733|2011-04-19 16:19:00|    USA|    22990|\n",
            "|   550644|REGENCY CAKESTAND...|       6|    12.75|     12733|2011-04-19 16:19:00|    USA|    22423|\n",
            "|   550644|TEA TIME TEA SET ...|       5|     6.95|     12733|2011-04-19 16:19:00|    USA|    37501|\n",
            "|   550644|TEA TIME TEAPOT I...|       4|     4.95|     12733|2011-04-19 16:19:00|    USA|    37500|\n",
            "|   570467|SET OF 6 SOLDIER ...|       4|     3.75|     12607|2011-10-10 16:06:00|    USA|    22619|\n",
            "|   570467|BAKING SET 9 PIEC...|       3|     4.95|     12607|2011-10-10 16:06:00|    USA|    22138|\n",
            "|   570467|DOORMAT SPOTTY HO...|       2|     8.25|     12607|2011-10-10 16:06:00|    USA|    21524|\n",
            "|   570467|BLUE HAPPY BIRTHD...|       3|     5.45|     12607|2011-10-10 16:06:00|    USA|    47590|\n",
            "|   570467|PINK HAPPY BIRTHD...|       3|     5.45|     12607|2011-10-10 16:06:00|    USA|    47590|\n",
            "|   570467|SET OF 4 ENGLISH ...|       4|     3.75|     12607|2011-10-10 16:06:00|    USA|    84509|\n",
            "|   570467|STRAWBERRY FAIRY ...|       8|     4.95|     12607|2011-10-10 16:06:00|    USA|    22649|\n",
            "|   570467|FRYING PAN RED RE...|       4|     4.25|     12607|2011-10-10 16:06:00|    USA|    22199|\n",
            "|   570467|BREAD BIN DINER S...|       1|    16.95|     12607|2011-10-10 16:06:00|    USA|    22848|\n",
            "|   570467|MILK PAN BLUE POL...|       4|     3.75|     12607|2011-10-10 16:06:00|    USA|    22204|\n",
            "|   570467|  DOORMAT FAIRY CAKE|       2|     8.25|     12607|2011-10-10 16:06:00|    USA|    48185|\n",
            "|   570467|RETROSPOT TEA SET...|       3|     4.95|     12607|2011-10-10 16:06:00|    USA|    22139|\n",
            "|   570467|SET OF 3 CAKE TIN...|       3|     4.95|     12607|2011-10-10 16:06:00|    USA|    22720|\n",
            "+---------+--------------------+--------+---------+----------+-------------------+-------+---------+\n",
            "only showing top 20 rows\n",
            "\n",
            "+---------+--------------------+--------+---------+----------+-------------------+-------+---------+\n",
            "|InvoiceNo|         Description|Quantity|UnitPrice|CustomerID|    InvoiceDateTime|Country|StockCode|\n",
            "+---------+--------------------+--------+---------+----------+-------------------+-------+---------+\n",
            "|   537065|ROSE COTTAGE KEEP...|       8|      8.5|     12567|2010-12-05 11:57:00| France|    22968|\n",
            "|   537065|  TOOL BOX SOFT TOY |       6|     8.95|     12567|2010-12-05 11:57:00| France|    21055|\n",
            "|   537463|BOOM BOX SPEAKER ...|       4|     5.95|     12681|2010-12-07 10:08:00| France|    21064|\n",
            "|   537897|SET 7 BABUSHKA NE...|       2|      8.5|     12683|2010-12-09 10:37:00| France|    22752|\n",
            "|   539607|BOOM BOX SPEAKER ...|       4|     5.95|     12681|2010-12-20 14:10:00| France|    21065|\n",
            "|   540178|BOOM BOX SPEAKER ...|       2|     5.95|     12681|2011-01-05 12:42:00| France|    21064|\n",
            "|   540351|  TOOL BOX SOFT TOY |       1|     8.95|     12735|2011-01-06 14:26:00| France|    21055|\n",
            "|   540365|  TOOL BOX SOFT TOY |       3|     8.95|     12413|2011-01-06 16:12:00| France|    21055|\n",
            "|   542535|  TOOL BOX SOFT TOY |       5|     8.95|     12735|2011-01-28 13:37:00| France|    21055|\n",
            "|   542535|VICTORIAN SEWING ...|       2|     5.95|     12735|2011-01-28 13:37:00| France|    21259|\n",
            "|   542735|BOOM BOX SPEAKER ...|       2|     5.95|     12681|2011-01-31 15:36:00| France|    21064|\n",
            "|   545181|SET 7 BABUSHKA NE...|       4|      8.5|     12509|2011-02-28 14:45:00| France|    22752|\n",
            "|   552826|MARIE ANTOINETTE ...|       2|     12.5|     14277|2011-05-11 13:20:00| France|    23072|\n",
            "|   552826|MARIE ANTOINETTE ...|       2|     12.5|     14277|2011-05-11 13:20:00| France|    23071|\n",
            "|   552826|PARISIENNE SEWING...|       2|     12.5|     14277|2011-05-11 13:20:00| France|    23111|\n",
            "|   553566|PARISIENNE SEWING...|       4|     12.5|     12690|2011-05-18 09:09:00| France|    23111|\n",
            "|   556507|SET 7 BABUSHKA NE...|       6|      8.5|     12567|2011-06-13 09:55:00| France|    22752|\n",
            "|   562450|SET 7 BABUSHKA NE...|       6|      8.5|     12562|2011-08-05 08:40:00| France|    22752|\n",
            "|   563662|RED METAL BOX TOP...|       2|     8.25|     12729|2011-08-18 11:40:00| France|    23080|\n",
            "|   563926|BOX OF VINTAGE AL...|       2|    11.95|     12553|2011-08-21 14:42:00| France|    22622|\n",
            "+---------+--------------------+--------+---------+----------+-------------------+-------+---------+\n",
            "only showing top 20 rows\n",
            "\n"
          ]
        }
      ]
    },
    {
      "cell_type": "markdown",
      "source": [
        "### Save"
      ],
      "metadata": {
        "id": "2GCXx7pbQzIM"
      }
    },
    {
      "cell_type": "code",
      "source": [
        "# Save cleaned data เป็น CSV\n",
        "# Write as partitioned files (use multiple workers)\n",
        "dt_sql_valid_price.write.csv('Cleaned_Data_Now_Final.csv')\n",
        "\n",
        "#เราสามารถบังคับให้ Spark ใช้เครื่องเดียวได้\n",
        "\n",
        "# Write as 1 file (use single worker)\n",
        "dt_sql_valid_price.coalesce(1).write.csv('Cleaned_Data_Now_Final_Single.csv')\n",
        "                  # coalesce(1) = เพื่อรวมเป็นเครื่องเดียว ไฟล์เดียว\n",
        "        "
      ],
      "metadata": {
        "id": "U4qlsod2Qx1M",
        "colab": {
          "base_uri": "https://localhost:8080/",
          "height": 380
        },
        "outputId": "b06c3f47-331b-48e9-9eb4-9971ae9309bc"
      },
      "execution_count": null,
      "outputs": [
        {
          "output_type": "error",
          "ename": "AnalysisException",
          "evalue": "ignored",
          "traceback": [
            "\u001b[0;31m---------------------------------------------------------------------------\u001b[0m",
            "\u001b[0;31mAnalysisException\u001b[0m                         Traceback (most recent call last)",
            "\u001b[0;32m<ipython-input-26-d8c9e820c9a2>\u001b[0m in \u001b[0;36m<module>\u001b[0;34m\u001b[0m\n\u001b[1;32m      1\u001b[0m \u001b[0;31m# Save cleaned data เป็น CSV\u001b[0m\u001b[0;34m\u001b[0m\u001b[0;34m\u001b[0m\u001b[0;34m\u001b[0m\u001b[0m\n\u001b[1;32m      2\u001b[0m \u001b[0;31m# Write as partitioned files (use multiple workers)\u001b[0m\u001b[0;34m\u001b[0m\u001b[0;34m\u001b[0m\u001b[0;34m\u001b[0m\u001b[0m\n\u001b[0;32m----> 3\u001b[0;31m \u001b[0mdt_sql_valid_price\u001b[0m\u001b[0;34m.\u001b[0m\u001b[0mwrite\u001b[0m\u001b[0;34m.\u001b[0m\u001b[0mcsv\u001b[0m\u001b[0;34m(\u001b[0m\u001b[0;34m'Cleaned_Data_Now_Final.csv'\u001b[0m\u001b[0;34m)\u001b[0m\u001b[0;34m\u001b[0m\u001b[0;34m\u001b[0m\u001b[0m\n\u001b[0m\u001b[1;32m      4\u001b[0m \u001b[0;34m\u001b[0m\u001b[0m\n\u001b[1;32m      5\u001b[0m \u001b[0;31m#เราสามารถบังคับให้ Spark ใช้เครื่องเดียวได้\u001b[0m\u001b[0;34m\u001b[0m\u001b[0;34m\u001b[0m\u001b[0;34m\u001b[0m\u001b[0m\n",
            "\u001b[0;32m/usr/local/lib/python3.8/dist-packages/pyspark/sql/readwriter.py\u001b[0m in \u001b[0;36mcsv\u001b[0;34m(self, path, mode, compression, sep, quote, escape, header, nullValue, escapeQuotes, quoteAll, dateFormat, timestampFormat, ignoreLeadingWhiteSpace, ignoreTrailingWhiteSpace, charToEscapeQuoteEscaping, encoding, emptyValue, lineSep)\u001b[0m\n\u001b[1;32m   1238\u001b[0m             \u001b[0mlineSep\u001b[0m\u001b[0;34m=\u001b[0m\u001b[0mlineSep\u001b[0m\u001b[0;34m,\u001b[0m\u001b[0;34m\u001b[0m\u001b[0;34m\u001b[0m\u001b[0m\n\u001b[1;32m   1239\u001b[0m         )\n\u001b[0;32m-> 1240\u001b[0;31m         \u001b[0mself\u001b[0m\u001b[0;34m.\u001b[0m\u001b[0m_jwrite\u001b[0m\u001b[0;34m.\u001b[0m\u001b[0mcsv\u001b[0m\u001b[0;34m(\u001b[0m\u001b[0mpath\u001b[0m\u001b[0;34m)\u001b[0m\u001b[0;34m\u001b[0m\u001b[0;34m\u001b[0m\u001b[0m\n\u001b[0m\u001b[1;32m   1241\u001b[0m \u001b[0;34m\u001b[0m\u001b[0m\n\u001b[1;32m   1242\u001b[0m     def orc(\n",
            "\u001b[0;32m/usr/local/lib/python3.8/dist-packages/py4j/java_gateway.py\u001b[0m in \u001b[0;36m__call__\u001b[0;34m(self, *args)\u001b[0m\n\u001b[1;32m   1319\u001b[0m \u001b[0;34m\u001b[0m\u001b[0m\n\u001b[1;32m   1320\u001b[0m         \u001b[0manswer\u001b[0m \u001b[0;34m=\u001b[0m \u001b[0mself\u001b[0m\u001b[0;34m.\u001b[0m\u001b[0mgateway_client\u001b[0m\u001b[0;34m.\u001b[0m\u001b[0msend_command\u001b[0m\u001b[0;34m(\u001b[0m\u001b[0mcommand\u001b[0m\u001b[0;34m)\u001b[0m\u001b[0;34m\u001b[0m\u001b[0;34m\u001b[0m\u001b[0m\n\u001b[0;32m-> 1321\u001b[0;31m         return_value = get_return_value(\n\u001b[0m\u001b[1;32m   1322\u001b[0m             answer, self.gateway_client, self.target_id, self.name)\n\u001b[1;32m   1323\u001b[0m \u001b[0;34m\u001b[0m\u001b[0m\n",
            "\u001b[0;32m/usr/local/lib/python3.8/dist-packages/pyspark/sql/utils.py\u001b[0m in \u001b[0;36mdeco\u001b[0;34m(*a, **kw)\u001b[0m\n\u001b[1;32m    194\u001b[0m                 \u001b[0;31m# Hide where the exception came from that shows a non-Pythonic\u001b[0m\u001b[0;34m\u001b[0m\u001b[0;34m\u001b[0m\u001b[0;34m\u001b[0m\u001b[0m\n\u001b[1;32m    195\u001b[0m                 \u001b[0;31m# JVM exception message.\u001b[0m\u001b[0;34m\u001b[0m\u001b[0;34m\u001b[0m\u001b[0;34m\u001b[0m\u001b[0m\n\u001b[0;32m--> 196\u001b[0;31m                 \u001b[0;32mraise\u001b[0m \u001b[0mconverted\u001b[0m \u001b[0;32mfrom\u001b[0m \u001b[0;32mNone\u001b[0m\u001b[0;34m\u001b[0m\u001b[0;34m\u001b[0m\u001b[0m\n\u001b[0m\u001b[1;32m    197\u001b[0m             \u001b[0;32melse\u001b[0m\u001b[0;34m:\u001b[0m\u001b[0;34m\u001b[0m\u001b[0;34m\u001b[0m\u001b[0m\n\u001b[1;32m    198\u001b[0m                 \u001b[0;32mraise\u001b[0m\u001b[0;34m\u001b[0m\u001b[0;34m\u001b[0m\u001b[0m\n",
            "\u001b[0;31mAnalysisException\u001b[0m: path file:/content/Cleaned_Data_Now_Final.csv already exists."
          ]
        }
      ]
    },
    {
      "cell_type": "markdown",
      "source": [
        "### Read"
      ],
      "metadata": {
        "id": "oXjEmfm6ySvn"
      }
    },
    {
      "cell_type": "code",
      "source": [
        "# อ่านไฟล์ที่มีหลาย Part\n",
        "\n",
        "# แก้โค้ดด้านล่างเป็นชื่อไฟล์ที่ Spark สร้างขึ้นมาใน Google Drive ของนะครับ เพราะชื่อไฟล์จะสุ่มสร้างออกมา ถ้ารันโดยไม่แก้เลยจะ Error\n",
        "# อ่าน CSV ไฟล์ที่ 1\n",
        "part1 = spark.read.csv('/content/Cleaned_Data_Now_Final.csv/part-00000-852c5bbb-45eb-4b76-85c6-7c7027a2d679-c000.csv', header = True, inferSchema = True, )\n",
        "display(part1.count())\n",
        "\n",
        "# แก้โค้ดด้านล่างเป็นชื่อไฟล์ที่ Spark สร้างขึ้นมาใน Google Drive ของนะครับ เพราะชื่อไฟล์จะสุ่มสร้างออกมา ถ้ารันโดยไม่แก้เลยจะ Error\n",
        "# อ่าน CSV ไฟล์ที่ 2\n",
        "part2 = spark.read.csv('/content/Cleaned_Data_Now_Final.csv/part-00001-852c5bbb-45eb-4b76-85c6-7c7027a2d679-c000.csv', header = True, inferSchema = True, )\n",
        "display(part2.count()) #ใส่display เพื่อให้show outputได้ทั้งหมด\n",
        "\n",
        "# วิธีอ่าน CSV ทุกไฟล์ในโฟลเดอร์นี้\n",
        "# Write Code Here\n",
        "part1_2 = spark.read.csv('/content/Cleaned_Data_Now_Final.csv/part-*.csv', header = True, inferSchema = True, )\n",
        "display(part1_2 .count())"
      ],
      "metadata": {
        "colab": {
          "base_uri": "https://localhost:8080/",
          "height": 69
        },
        "id": "MhLFtbOsyUqZ",
        "outputId": "08f81019-2c69-4e9f-eb24-8cbe96a57902"
      },
      "execution_count": null,
      "outputs": [
        {
          "output_type": "display_data",
          "data": {
            "text/plain": [
              "290842"
            ]
          },
          "metadata": {}
        },
        {
          "output_type": "display_data",
          "data": {
            "text/plain": [
              "239260"
            ]
          },
          "metadata": {}
        },
        {
          "output_type": "display_data",
          "data": {
            "text/plain": [
              "530102"
            ]
          },
          "metadata": {}
        }
      ]
    }
  ]
}